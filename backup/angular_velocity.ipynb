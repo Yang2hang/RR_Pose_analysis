{
 "cells": [
  {
   "cell_type": "code",
   "execution_count": 153,
   "metadata": {},
   "outputs": [],
   "source": [
    "import pandas as pd\n",
    "import numpy as np\n",
    "import plotly.graph_objects as go\n",
    "import matplotlib.pyplot as plt"
   ]
  },
  {
   "cell_type": "code",
   "execution_count": 154,
   "metadata": {},
   "outputs": [],
   "source": [
    "df = pd.read_csv('/Users/yang/Documents/Wilbrecht_Lab/data/processed_tracks/RRM026/Day151/RRM026_Day151_R1_tracks_processed.csv')\n",
    "trial_df = pd.read_csv('/Users/yang/Documents/Wilbrecht_Lab/data/processed_tracks/trial_df.csv')\n",
    "frames_preserved = 32"
   ]
  },
  {
   "cell_type": "code",
   "execution_count": 155,
   "metadata": {},
   "outputs": [],
   "source": [
    "from plotly.subplots import make_subplots\n",
    "import plotly.graph_objects as go\n",
    "import logging\n",
    "\n",
    "\n",
    "class PlotlyFig:\n",
    "    # TODO: add automatic color palette\n",
    "\n",
    "    def __init__(\n",
    "        self, rows=1, cols=1, shared_xaxes=True, vertical_spacing=0.1, **kwargs\n",
    "    ):\n",
    "        fig = make_subplots(\n",
    "            rows=rows,\n",
    "            cols=cols,\n",
    "            shared_xaxes=shared_xaxes,\n",
    "            vertical_spacing=vertical_spacing,\n",
    "            **kwargs,\n",
    "        )\n",
    "        self.fig = fig\n",
    "\n",
    "    def plot(\n",
    "        self, x, y, name=\"\", color=\"blue\", mode=\"lines+markers\", row=1, col=1, **kwargs\n",
    "    ):\n",
    "        self.fig.add_trace(\n",
    "            go.Scatter(x=x, y=y, mode=mode, name=name, line=dict(color=color)),\n",
    "            row=row,\n",
    "            col=col,\n",
    "        )\n",
    "\n",
    "    def show(self):\n",
    "        self.fig.show()"
   ]
  },
  {
   "cell_type": "code",
   "execution_count": 156,
   "metadata": {},
   "outputs": [],
   "source": [
    "from scipy import stats\n",
    "# def foaw_smooth(trial_df, sr, noise_max):\n",
    "#     trial_df = trial_df.reset_index()\n",
    "#     trial_df['smoothed velocity x'] = foaw(trial_df['warped Head x'], sr, noise_max, n=16, best=False)\n",
    "#     trial_df['smoothed velocity y'] = foaw(trial_df['warped Head y'], sr, noise_max, n=16, best=False)\n",
    "#     return trial_df\n",
    "\n",
    "def plot_trial(trial_df, a, b=None):\n",
    "    plt.plot(trial_df[a], label=a, color='blue', alpha=0.3)\n",
    "    if b is not None:\n",
    "        plt.plot(trial_df[b], label=b, color='red', alpha=0.3)\n",
    "\n",
    "def get_subjective_angular_velocity(trial_df, sr):\n",
    "    \"\"\"\n",
    "    Calculate the angular velocities based on neck-head orientation and head velocity changes.\n",
    "    \n",
    "    Parameters:\n",
    "    trial_df (pd.DataFrame): DataFrame containing the time series data with columns for Neck x, Neck y, Head x, and Head y.\n",
    "    sr (float): Sampling rate.\n",
    "    \n",
    "    Returns:\n",
    "    pd.DataFrame: DataFrame with calculated angular velocities and their sum.\n",
    "    \"\"\"\n",
    "    # Calculate the neck-head orientation angles\n",
    "    neck_head_angles = np.arctan2(trial_df['warped Head y'] - trial_df['warped Neck y'], trial_df['warped Head x'] - trial_df['warped Neck x'])\n",
    "    neck_head_angles_unwrapped = np.unwrap(neck_head_angles)\n",
    "    rotation = np.gradient(neck_head_angles_unwrapped) * sr\n",
    "    \n",
    "    # Calculate the head velocity\n",
    "    head_velocity_x = np.gradient(trial_df['warped Head x']) * sr\n",
    "    head_velocity_y = np.gradient(trial_df['warped Head y']) * sr\n",
    "    \n",
    "    # Calculate VTE\n",
    "    dx = np.gradient(trial_df['warped Head x'])\n",
    "    dy = np.gradient(trial_df['warped Head y'])\n",
    "    Phi = np.unwrap(np.arctan2(dy, dx))\n",
    "    dPhi = np.abs(np.gradient(Phi))\n",
    "    \n",
    "    # Calculate the head velocity angles\n",
    "    head_velocity_angles = np.arctan2(head_velocity_y, head_velocity_x)\n",
    "    head_velocity_angles_unwrapped = np.unwrap(head_velocity_angles)\n",
    "    revolution = np.gradient(head_velocity_angles_unwrapped) * sr\n",
    "    \n",
    "    rotation = stats.zscore(rotation)\n",
    "    revolution = stats.zscore(revolution)\n",
    "    \n",
    "    # Calculate the sum of the two angular velocities\n",
    "    subjective_angular_velocity = rotation + revolution\n",
    "    \n",
    "    trial_df['Head_vx'] = head_velocity_x\n",
    "    trial_df['Head_vy'] = head_velocity_y\n",
    "    trial_df['Neck_Head_x'] = trial_df['warped Head x'] - trial_df['warped Neck x']\n",
    "    trial_df['Neck_Head_y'] = trial_df['warped Head y'] - trial_df['warped Neck y']\n",
    "    trial_df['Neck_Head_angles'] = neck_head_angles_unwrapped\n",
    "    trial_df['Head_v_angles'] = head_velocity_angles_unwrapped\n",
    "    trial_df['rotation'] = rotation\n",
    "    trial_df['revolution'] = revolution\n",
    "    trial_df['angular_velocity'] = subjective_angular_velocity\n",
    "    trial_df['dPhi'] = dPhi\n",
    "    \n",
    "    return trial_df"
   ]
  },
  {
   "cell_type": "code",
   "execution_count": 157,
   "metadata": {},
   "outputs": [],
   "source": [
    "from scipy.stats import linregress\n",
    "\n",
    "def calculate_straight_walking_features(segment):\n",
    "    if len(segment) < 2:\n",
    "        return np.nan, np.nan\n",
    "    straight_walking_speed = segment['Head_v'].mean()\n",
    "    x_coords = segment['warped Head x'].values\n",
    "    y_coords = segment['warped Head y'].values\n",
    "    if len(x_coords) < 2:\n",
    "        return straight_walking_speed, np.nan\n",
    "    slope, _, _, _, _ = linregress(y_coords, x_coords) # Switch x and y\n",
    "    return straight_walking_speed, slope\n",
    "\n",
    "def get_REJ_features(trial_df):\n",
    "    last_x = trial_df['warped Head x'].iloc[-1]\n",
    "    last_y = trial_df['warped Head y'].iloc[-1]\n",
    "    \n",
    "    return last_x, last_y\n",
    "\n",
    "def get_features_per_trial(trial_df, frames_preserved=32):\n",
    "    trial_df = trial_df.reset_index(drop=True)\n",
    "    sleap_decision = trial_df['decision'].dropna().iloc[-1] if not trial_df['decision'].dropna().empty else np.nan\n",
    "    bonsai_decision = trial_df['label'].dropna().iloc[-1] if not trial_df['label'].dropna().empty else np.nan\n",
    "    animal = trial_df['animal'].iloc[0]\n",
    "    session = trial_df['session'].iloc[0]\n",
    "    restaurant = trial_df['restaurant'].iloc[0]\n",
    "    trial_length = len(trial_df)\n",
    "    \n",
    "    coords = trial_df[['warped Head x', 'warped Head y']].head(frames_preserved).values.flatten()\n",
    "    if len(coords) < frames_preserved * 2:\n",
    "        coords = np.pad(coords, (0, frames_preserved * 2 - len(coords)), 'constant', constant_values=np.nan)\n",
    "    coords_dict = {f'x{i // 2 + 1}' if i % 2 == 0 else f'y{i // 2 + 1}': coords[i] for i in range(len(coords))}\n",
    "    \n",
    "    # Identify each segments\n",
    "    t_entry_idx = trial_df[trial_df['decision'] == 'T_Entry'].index[0]\n",
    "    decision_idx = trial_df[(trial_df['decision'] == 'ACC') | (trial_df['decision'] == 'REJ')].index[0]\n",
    "    straight_walking_segment = trial_df.iloc[:t_entry_idx+1]\n",
    "    turning_segment = trial_df.iloc[t_entry_idx:decision_idx+1]\n",
    "    VTE_segment = trial_df.iloc[:decision_idx+1]\n",
    "    \n",
    "    straight_walking_speed, straight_walking_slope = calculate_straight_walking_features(straight_walking_segment)\n",
    "    average_angular_velocity = turning_segment['angular_velocity'].mean()\n",
    "    Vte = VTE_segment['dPhi'].sum()\n",
    "    last_x, last_y = get_REJ_features(trial_df)\n",
    "    \n",
    "    result = pd.Series({\n",
    "        **coords_dict,\n",
    "        'sleap_decision': sleap_decision,\n",
    "        'bonsai_decision': bonsai_decision,\n",
    "        'animal': animal,\n",
    "        'session': session,\n",
    "        'restaurant': restaurant,\n",
    "        'trial_length': trial_length,\n",
    "        'straight_walking_speed': straight_walking_speed,\n",
    "        'straight_walking_slope': straight_walking_slope,\n",
    "        'average_angular_velocity': average_angular_velocity,\n",
    "        'VTE': Vte,\n",
    "        'last_x': last_x,\n",
    "        'last_y': last_y\n",
    "    })\n",
    "    \n",
    "    return result"
   ]
  },
  {
   "cell_type": "code",
   "execution_count": 158,
   "metadata": {},
   "outputs": [],
   "source": [
    "sr = 30\n",
    "noise_max = 0.1\n",
    "decision = 'ACC'\n",
    "\n",
    "df_omega = df.groupby('trial', group_keys=True).apply(get_subjective_angular_velocity, sr=sr).reset_index(drop=True)\n",
    "\n",
    "trial_df = trial_df[(trial_df['animal'] == 'RRM026') & (trial_df['session'] == 'Day151') & (trial_df['sleap_decision'] == decision)]"
   ]
  },
  {
   "cell_type": "code",
   "execution_count": 159,
   "metadata": {},
   "outputs": [
    {
     "data": {
      "image/png": "[encoded data removed]",
      "text/plain": [
       "<Figure size 640x480 with 1 Axes>"
      ]
     },
     "metadata": {},
     "output_type": "display_data"
    }
   ],
   "source": [
    "plt.hist(trial_df['straight_walking_speed'])\n",
    "trial_df['straight_walking_speed'].describe()\n",
    "trial_df = trial_df[(trial_df['straight_walking_speed'] > 344) & (trial_df['straight_walking_speed'] < 500)]"
   ]
  },
  {
   "cell_type": "code",
   "execution_count": 160,
   "metadata": {},
   "outputs": [],
   "source": [
    "fast_df = df_omega[df_omega['trial'].isin(trial_df['trial'])]"
   ]
  },
  {
   "cell_type": "code",
   "execution_count": 175,
   "metadata": {},
   "outputs": [
    {
     "data": {
      "text/plain": [
       "0        1\n",
       "37       5\n",
       "83       8\n",
       "142     12\n",
       "209     16\n",
       "258     20\n",
       "308     24\n",
       "462     28\n",
       "513     32\n",
       "561     36\n",
       "612     40\n",
       "678     44\n",
       "887     48\n",
       "935     52\n",
       "1380    56\n",
       "1485    60\n",
       "1537    64\n",
       "1599    68\n",
       "1671    72\n",
       "Name: trial, dtype: int64"
      ]
     },
     "execution_count": 175,
     "metadata": {},
     "output_type": "execute_result"
    }
   ],
   "source": [
    "df_omega['trial'].drop_duplicates()"
   ]
  },
  {
   "cell_type": "code",
   "execution_count": 188,
   "metadata": {},
   "outputs": [
    {
     "data": {
      "application/vnd.plotly.v1+json": {
       "config": {
        "plotlyServerURL": "https://plot.ly"
       },
       "data": [
        {
         "line": {
          "color": "red"
         },
         "mode": "lines",
         "name": "angular_velocity",
         "type": "scatter",
         "x": [
          0.0324351999984173,
          0.0650111999957516,
          0.0981887999996615,
          0.1319552000013573,
          0.1661696000023766,
          0.1990015999972456,
          0.2319615999981579,
          0.2655872000009367,
          0.2985728000030576,
          0.3329024000017853,
          0.3657855999990716,
          0.3983104000017192,
          0.4323584000021583,
          0.4654336000007788,
          0.4991231999993033,
          0.5322624000009455,
          0.5662591999989672,
          0.6002431999963846,
          0.6330751999989843,
          0.6657664000017576,
          0.6997760000003836,
          0.7331455999983518,
          0.7661696000022857,
          0.7997312000020429,
          0.8326015999987249,
          0.8664064000022336,
          0.9006847999989986,
          0.9335679999962848,
          0.9664255999996384,
          1.0007807999995748,
          1.0341247999963343,
          1.0664064000025064,
          1.1002239999993435,
          1.13285119999955,
          1.1666048000006413,
          1.2000639999955638,
          1.2333567999971822,
          1.2675583999975968,
          1.3004416000021592,
          1.3335679999959211,
          1.3667199999986224,
          1.400294399998984,
          1.4334847999957674,
          1.4674560000003112,
          1.500774399995862,
          1.5331327999979294,
          1.567014399997788,
          1.6012287999988075,
          1.6336383999955617,
          1.668159999996078
         ],
         "xaxis": "x",
         "y": [
          -1.1516790010326308,
          -1.0227136468217357,
          -0.6492966611720975,
          -0.18374914537296377,
          -0.1428759122943362,
          -0.5606981654876275,
          -0.6498172630447608,
          0.46315953396712645,
          2.2067171866459327,
          1.6949247477216862,
          -0.5040579439831956,
          -1.8443120195213154,
          -1.9592398692887778,
          -0.3311988261545944,
          1.5735893754777197,
          1.1292047663145954,
          -0.3207733905358374,
          -0.08302519705760147,
          1.873758494461208,
          2.6842434766226675,
          1.5793063946911967,
          1.1880346147030139,
          1.115593654989887,
          0.39379223263402263,
          0.6377331683688527,
          1.6178111455962494,
          1.7827131464085533,
          0.5022569427950728,
          -1.8223191802562673,
          -3.525452555257545,
          -2.8134460111717026,
          -0.7755648561321078,
          -0.3714706121064379,
          -1.018139628046292,
          -0.46697359643604586,
          1.1287188278331894,
          2.192440252617379,
          2.0509267505015707,
          0.46610035831352625,
          -1.5175427776989872,
          -1.5629213569371085,
          0.07254767567693332,
          1.6649951895511954,
          2.314003141286961,
          1.339794448312169,
          -1.700178242151949,
          -3.0251735010053173,
          -1.6481737071358706,
          -1.0336320079791486,
          -0.9879404514084538
         ],
         "yaxis": "y"
        },
        {
         "line": {
          "color": "green"
         },
         "mode": "lines",
         "name": "Neck_Head_angles",
         "type": "scatter",
         "x": [
          0.0324351999984173,
          0.0650111999957516,
          0.0981887999996615,
          0.1319552000013573,
          0.1661696000023766,
          0.1990015999972456,
          0.2319615999981579,
          0.2655872000009367,
          0.2985728000030576,
          0.3329024000017853,
          0.3657855999990716,
          0.3983104000017192,
          0.4323584000021583,
          0.4654336000007788,
          0.4991231999993033,
          0.5322624000009455,
          0.5662591999989672,
          0.6002431999963846,
          0.6330751999989843,
          0.6657664000017576,
          0.6997760000003836,
          0.7331455999983518,
          0.7661696000022857,
          0.7997312000020429,
          0.8326015999987249,
          0.8664064000022336,
          0.9006847999989986,
          0.9335679999962848,
          0.9664255999996384,
          1.0007807999995748,
          1.0341247999963343,
          1.0664064000025064,
          1.1002239999993435,
          1.13285119999955,
          1.1666048000006413,
          1.2000639999955638,
          1.2333567999971822,
          1.2675583999975968,
          1.3004416000021592,
          1.3335679999959211,
          1.3667199999986224,
          1.400294399998984,
          1.4334847999957674,
          1.4674560000003112,
          1.500774399995862,
          1.5331327999979294,
          1.567014399997788,
          1.6012287999988075,
          1.6336383999955617,
          1.668159999996078
         ],
         "xaxis": "x2",
         "y": [
          -1.3756568029550382,
          -1.4225529917362358,
          -1.4556989713085315,
          -1.4680111941509428,
          -1.4432133381295251,
          -1.424209896468508,
          -1.4363351820518424,
          -1.4517410661226764,
          -1.3589324930012745,
          -1.1232140278944,
          -1.0175287416308856,
          -1.0509910886002056,
          -1.1892890161966128,
          -1.3214243539467283,
          -1.2660072700554819,
          -1.0721003333478767,
          -0.9960267620031873,
          -1.0382130928185946,
          -1.081277079221636,
          -0.9233100525440098,
          -0.7713852582761579,
          -0.6961836515432694,
          -0.5895238682874585,
          -0.49931575388019933,
          -0.5025480002580955,
          -0.4729895023123876,
          -0.3727923269056083,
          -0.2097709116591097,
          -0.12998936224548616,
          -0.1646035146925509,
          -0.26753801029240865,
          -0.32345668590579146,
          -0.3536765300447693,
          -0.38667139109018134,
          -0.4253634345765434,
          -0.43725603744760205,
          -0.4131749314147613,
          -0.3185232094034383,
          -0.2710087049280679,
          -0.3040284389008745,
          -0.37054637738838153,
          -0.3895654954010507,
          -0.4041732166868738,
          -0.3576188506095214,
          -0.2290488732632613,
          -0.12064550997447497,
          -0.06766751852319834,
          -0.055096412295878215,
          -0.05698804777625429,
          -0.06889977405510753
         ],
         "yaxis": "y2"
        },
        {
         "line": {
          "color": "black"
         },
         "mode": "lines",
         "name": "rotation",
         "type": "scatter",
         "x": [
          0.0324351999984173,
          0.0650111999957516,
          0.0981887999996615,
          0.1319552000013573,
          0.1661696000023766,
          0.1990015999972456,
          0.2319615999981579,
          0.2655872000009367,
          0.2985728000030576,
          0.3329024000017853,
          0.3657855999990716,
          0.3983104000017192,
          0.4323584000021583,
          0.4654336000007788,
          0.4991231999993033,
          0.5322624000009455,
          0.5662591999989672,
          0.6002431999963846,
          0.6330751999989843,
          0.6657664000017576,
          0.6997760000003836,
          0.7331455999983518,
          0.7661696000022857,
          0.7997312000020429,
          0.8326015999987249,
          0.8664064000022336,
          0.9006847999989986,
          0.9335679999962848,
          0.9664255999996384,
          1.0007807999995748,
          1.0341247999963343,
          1.0664064000025064,
          1.1002239999993435,
          1.13285119999955,
          1.1666048000006413,
          1.2000639999955638,
          1.2333567999971822,
          1.2675583999975968,
          1.3004416000021592,
          1.3335679999959211,
          1.3667199999986224,
          1.400294399998984,
          1.4334847999957674,
          1.4674560000003112,
          1.500774399995862,
          1.5331327999979294,
          1.567014399997788,
          1.6012287999988075,
          1.6336383999955617,
          1.668159999996078
         ],
         "xaxis": "x3",
         "y": [
          -1.0241564144615234,
          -0.9269605755052679,
          -0.6824975616859059,
          -0.27291108723225044,
          -0.05155065280970831,
          -0.31254855259810826,
          -0.5557770905509092,
          0.18596685507001282,
          1.9610847045401945,
          2.0521060786758274,
          0.14935285774783055,
          -1.5752865860655791,
          -2.2727744551994777,
          -0.9034648851477203,
          1.401223859559363,
          1.547237974502934,
          -0.12162995762763933,
          -0.9637753170592135,
          0.4510448653749669,
          1.8293583031148932,
          1.244315973512548,
          0.92435206213939,
          1.0304282738576576,
          0.2536366009034062,
          -0.1750761746476192,
          0.5560333866973592,
          1.4994401392434653,
          1.3551285970643643,
          -0.04189413311602987,
          -1.333455520731639,
          -1.4840503932353013,
          -0.9700537372006871,
          -0.8080126107595652,
          -0.8678998830812504,
          -0.7187347572299341,
          -0.27501140446120625,
          0.4781164124062396,
          0.6437596245650294,
          -0.25870913693646413,
          -1.0647680698313018,
          -0.9658021854963261,
          -0.5988654331411195,
          -0.13534740933620715,
          0.8767300308646184,
          1.313920846017933,
          0.7795852314968275,
          0.10217760208195763,
          -0.28567827282255553,
          -0.4587395993311318,
          -0.5295684221351757
         ],
         "yaxis": "y3"
        },
        {
         "line": {
          "color": "yellow"
         },
         "mode": "lines",
         "name": "Head_v_angles",
         "type": "scatter",
         "x": [
          0.0324351999984173,
          0.0650111999957516,
          0.0981887999996615,
          0.1319552000013573,
          0.1661696000023766,
          0.1990015999972456,
          0.2319615999981579,
          0.2655872000009367,
          0.2985728000030576,
          0.3329024000017853,
          0.3657855999990716,
          0.3983104000017192,
          0.4323584000021583,
          0.4654336000007788,
          0.4991231999993033,
          0.5322624000009455,
          0.5662591999989672,
          0.6002431999963846,
          0.6330751999989843,
          0.6657664000017576,
          0.6997760000003836,
          0.7331455999983518,
          0.7661696000022857,
          0.7997312000020429,
          0.8326015999987249,
          0.8664064000022336,
          0.9006847999989986,
          0.9335679999962848,
          0.9664255999996384,
          1.0007807999995748,
          1.0341247999963343,
          1.0664064000025064,
          1.1002239999993435,
          1.13285119999955,
          1.1666048000006413,
          1.2000639999955638,
          1.2333567999971822,
          1.2675583999975968,
          1.3004416000021592,
          1.3335679999959211,
          1.3667199999986224,
          1.400294399998984,
          1.4334847999957674,
          1.4674560000003112,
          1.500774399995862,
          1.5331327999979294,
          1.567014399997788,
          1.6012287999988075,
          1.6336383999955617,
          1.668159999996078
         ],
         "xaxis": "x4",
         "y": [
          -1.5599262454311011,
          -1.5641005233863217,
          -1.5538907242361362,
          -1.499679349813983,
          -1.4641324333939765,
          -1.4916390770108514,
          -1.5270965046389327,
          -1.484828017739816,
          -1.352204758090569,
          -1.3242255765355946,
          -1.4645344122538033,
          -1.5706771244197624,
          -1.5369502932055266,
          -1.3793310886431556,
          -1.228460088605966,
          -1.2519012559119125,
          -1.3683412520424674,
          -1.2926771173008877,
          -0.9201807224861281,
          -0.5991352893361231,
          -0.4837308967826036,
          -0.39807483436295665,
          -0.31495604239728026,
          -0.31012604036686653,
          -0.20210966975345532,
          0.10727338481244791,
          0.32801356824325834,
          0.2849180821040544,
          -0.008746574513204174,
          -0.4718043866588845,
          -0.9518138191888349,
          -1.0243171898202115,
          -0.8143673340912836,
          -0.7772778866065074,
          -0.8330013902787976,
          -0.6139006033532959,
          -0.14805455159818787,
          0.21167168613800114,
          0.5384483870970257,
          0.5892279917295148,
          0.3828375404676974,
          0.3682632397247909,
          0.7362179109393046,
          1.2327816839620276,
          1.4363517407169586,
          1.2938853243041655,
          0.36299435420206844,
          -0.07267610765142879,
          -0.20450483786460322,
          -0.28357739261071135
         ],
         "yaxis": "y4"
        },
        {
         "line": {
          "color": "blue"
         },
         "mode": "lines",
         "name": "revolution",
         "type": "scatter",
         "x": [
          0.0324351999984173,
          0.0650111999957516,
          0.0981887999996615,
          0.1319552000013573,
          0.1661696000023766,
          0.1990015999972456,
          0.2319615999981579,
          0.2655872000009367,
          0.2985728000030576,
          0.3329024000017853,
          0.3657855999990716,
          0.3983104000017192,
          0.4323584000021583,
          0.4654336000007788,
          0.4991231999993033,
          0.5322624000009455,
          0.5662591999989672,
          0.6002431999963846,
          0.6330751999989843,
          0.6657664000017576,
          0.6997760000003836,
          0.7331455999983518,
          0.7661696000022857,
          0.7997312000020429,
          0.8326015999987249,
          0.8664064000022336,
          0.9006847999989986,
          0.9335679999962848,
          0.9664255999996384,
          1.0007807999995748,
          1.0341247999963343,
          1.0664064000025064,
          1.1002239999993435,
          1.13285119999955,
          1.1666048000006413,
          1.2000639999955638,
          1.2333567999971822,
          1.2675583999975968,
          1.3004416000021592,
          1.3335679999959211,
          1.3667199999986224,
          1.400294399998984,
          1.4334847999957674,
          1.4674560000003112,
          1.500774399995862,
          1.5331327999979294,
          1.567014399997788,
          1.6012287999988075,
          1.6336383999955617,
          1.668159999996078
         ],
         "xaxis": "x5",
         "y": [
          -0.12752258657110738,
          -0.09575307131646787,
          0.03320090051380845,
          0.08916194185928666,
          -0.09132525948462789,
          -0.24814961288951926,
          -0.09404017249385169,
          0.27719267889711363,
          0.24563248210573851,
          -0.3571813309541411,
          -0.6534108017310262,
          -0.26902543345573626,
          0.3135345859106999,
          0.5722660589931259,
          0.17236551591835692,
          -0.41803320818833856,
          -0.19914343290819808,
          0.880750120001612,
          1.422713629086241,
          0.8548851735077743,
          0.3349904211786487,
          0.2636825525636237,
          0.08516538113222939,
          0.14015563173061643,
          0.812809343016472,
          1.0617777588988901,
          0.2832730071650879,
          -0.8528716542692915,
          -1.7804250471402374,
          -2.191997034525906,
          -1.329395617936401,
          0.19448888106857926,
          0.4365419986531273,
          -0.15023974496504144,
          0.2517611607938882,
          1.4037302322943956,
          1.7143238402111394,
          1.407167125936541,
          0.7248094952499904,
          -0.45277470786768537,
          -0.5971191714407823,
          0.6714131088180528,
          1.8003425988874024,
          1.4372731104223424,
          0.025873602294236034,
          -2.4797634736487764,
          -3.127351103087275,
          -1.362495434313315,
          -0.5748924086480167,
          -0.4583720292732781
         ],
         "yaxis": "y5"
        },
        {
         "line": {
          "color": "purple"
         },
         "mode": "lines",
         "name": "dPhi",
         "type": "scatter",
         "x": [
          0.0324351999984173,
          0.0650111999957516,
          0.0981887999996615,
          0.1319552000013573,
          0.1661696000023766,
          0.1990015999972456,
          0.2319615999981579,
          0.2655872000009367,
          0.2985728000030576,
          0.3329024000017853,
          0.3657855999990716,
          0.3983104000017192,
          0.4323584000021583,
          0.4654336000007788,
          0.4991231999993033,
          0.5322624000009455,
          0.5662591999989672,
          0.6002431999963846,
          0.6330751999989843,
          0.6657664000017576,
          0.6997760000003836,
          0.7331455999983518,
          0.7661696000022857,
          0.7997312000020429,
          0.8326015999987249,
          0.8664064000022336,
          0.9006847999989986,
          0.9335679999962848,
          0.9664255999996384,
          1.0007807999995748,
          1.0341247999963343,
          1.0664064000025064,
          1.1002239999993435,
          1.13285119999955,
          1.1666048000006413,
          1.2000639999955638,
          1.2333567999971822,
          1.2675583999975968,
          1.3004416000021592,
          1.3335679999959211,
          1.3667199999986224,
          1.400294399998984,
          1.4334847999957674,
          1.4674560000003112,
          1.500774399995862,
          1.5331327999979294,
          1.567014399997788,
          1.6012287999988075,
          1.6336383999955617,
          1.668159999996078
         ],
         "xaxis": "x6",
         "y": [
          0.004174277955220518,
          0.0030177605974824884,
          0.03221058678616928,
          0.04487914542107985,
          0.004020136401565844,
          0.03148203562247809,
          0.0034055296355176568,
          0.08744587327418185,
          0.08030122060211065,
          0.056164827081617186,
          0.12322577394208378,
          0.03620794047586162,
          0.0956730178883034,
          0.15424510229978028,
          0.06371491636562154,
          0.06994058171825068,
          0.020387930694487633,
          0.2240802647781696,
          0.3467709139823823,
          0.21822491285176224,
          0.10053022748658325,
          0.08438742719266171,
          0.04397439699804506,
          0.05642318632191247,
          0.20869971258965722,
          0.26506161899835684,
          0.08882234864580324,
          0.16838007137823124,
          0.37836123438146946,
          0.4715336223378154,
          0.27625640158066345,
          0.06872324254877565,
          0.12351965160685202,
          0.009317028093757007,
          0.08168864162660577,
          0.34247341934030484,
          0.4127861447456485,
          0.34325146934760675,
          0.18877815279575683,
          0.07780542331466414,
          0.11048237600236194,
          0.17669018523580357,
          0.43225922211861834,
          0.350066914888827,
          0.030551820171068944,
          0.5366786932574451,
          0.6832807159777972,
          0.2837495960333358,
          0.10545064247964128,
          0.07907255474610814
         ],
         "yaxis": "y6"
        }
       ],
       "layout": {
        "height": 1000,
        "shapes": [
         {
          "line": {
           "color": "green"
          },
          "type": "line",
          "x0": 0.7997312000020429,
          "x1": 0.7997312000020429,
          "xref": "x",
          "y0": 0,
          "y1": 1,
          "yref": "y domain"
         },
         {
          "line": {
           "color": "green"
          },
          "type": "line",
          "x0": 0.7997312000020429,
          "x1": 0.7997312000020429,
          "xref": "x2",
          "y0": 0,
          "y1": 1,
          "yref": "y2 domain"
         },
         {
          "line": {
           "color": "green"
          },
          "type": "line",
          "x0": 0.7997312000020429,
          "x1": 0.7997312000020429,
          "xref": "x3",
          "y0": 0,
          "y1": 1,
          "yref": "y3 domain"
         },
         {
          "line": {
           "color": "green"
          },
          "type": "line",
          "x0": 0.7997312000020429,
          "x1": 0.7997312000020429,
          "xref": "x4",
          "y0": 0,
          "y1": 1,
          "yref": "y4 domain"
         },
         {
          "line": {
           "color": "green"
          },
          "type": "line",
          "x0": 0.7997312000020429,
          "x1": 0.7997312000020429,
          "xref": "x5",
          "y0": 0,
          "y1": 1,
          "yref": "y5 domain"
         },
         {
          "line": {
           "color": "green"
          },
          "type": "line",
          "x0": 0.7997312000020429,
          "x1": 0.7997312000020429,
          "xref": "x6",
          "y0": 0,
          "y1": 1,
          "yref": "y6 domain"
         },
         {
          "line": {
           "color": "green"
          },
          "type": "line",
          "x0": 0.5662591999989672,
          "x1": 0.5662591999989672,
          "xref": "x",
          "y0": 0,
          "y1": 1,
          "yref": "y domain"
         },
         {
          "line": {
           "color": "green"
          },
          "type": "line",
          "x0": 0.5662591999989672,
          "x1": 0.5662591999989672,
          "xref": "x2",
          "y0": 0,
          "y1": 1,
          "yref": "y2 domain"
         },
         {
          "line": {
           "color": "green"
          },
          "type": "line",
          "x0": 0.5662591999989672,
          "x1": 0.5662591999989672,
          "xref": "x3",
          "y0": 0,
          "y1": 1,
          "yref": "y3 domain"
         },
         {
          "line": {
           "color": "green"
          },
          "type": "line",
          "x0": 0.5662591999989672,
          "x1": 0.5662591999989672,
          "xref": "x4",
          "y0": 0,
          "y1": 1,
          "yref": "y4 domain"
         },
         {
          "line": {
           "color": "green"
          },
          "type": "line",
          "x0": 0.5662591999989672,
          "x1": 0.5662591999989672,
          "xref": "x5",
          "y0": 0,
          "y1": 1,
          "yref": "y5 domain"
         },
         {
          "line": {
           "color": "green"
          },
          "type": "line",
          "x0": 0.5662591999989672,
          "x1": 0.5662591999989672,
          "xref": "x6",
          "y0": 0,
          "y1": 1,
          "yref": "y6 domain"
         }
        ],
        "template": {
         "data": {
          "bar": [
           {
            "error_x": {
             "color": "#2a3f5f"
            },
            "error_y": {
             "color": "#2a3f5f"
            },
            "marker": {
             "line": {
              "color": "#E5ECF6",
              "width": 0.5
             },
             "pattern": {
              "fillmode": "overlay",
              "size": 10,
              "solidity": 0.2
             }
            },
            "type": "bar"
           }
          ],
          "barpolar": [
           {
            "marker": {
             "line": {
              "color": "#E5ECF6",
              "width": 0.5
             },
             "pattern": {
              "fillmode": "overlay",
              "size": 10,
              "solidity": 0.2
             }
            },
            "type": "barpolar"
           }
          ],
          "carpet": [
           {
            "aaxis": {
             "endlinecolor": "#2a3f5f",
             "gridcolor": "white",
             "linecolor": "white",
             "minorgridcolor": "white",
             "startlinecolor": "#2a3f5f"
            },
            "baxis": {
             "endlinecolor": "#2a3f5f",
             "gridcolor": "white",
             "linecolor": "white",
             "minorgridcolor": "white",
             "startlinecolor": "#2a3f5f"
            },
            "type": "carpet"
           }
          ],
          "choropleth": [
           {
            "colorbar": {
             "outlinewidth": 0,
             "ticks": ""
            },
            "type": "choropleth"
           }
          ],
          "contour": [
           {
            "colorbar": {
             "outlinewidth": 0,
             "ticks": ""
            },
            "colorscale": [
             [
              0,
              "#0d0887"
             ],
             [
              0.1111111111111111,
              "#46039f"
             ],
             [
              0.2222222222222222,
              "#7201a8"
             ],
             [
              0.3333333333333333,
              "#9c179e"
             ],
             [
              0.4444444444444444,
              "#bd3786"
             ],
             [
              0.5555555555555556,
              "#d8576b"
             ],
             [
              0.6666666666666666,
              "#ed7953"
             ],
             [
              0.7777777777777778,
              "#fb9f3a"
             ],
             [
              0.8888888888888888,
              "#fdca26"
             ],
             [
              1,
              "#f0f921"
             ]
            ],
            "type": "contour"
           }
          ],
          "contourcarpet": [
           {
            "colorbar": {
             "outlinewidth": 0,
             "ticks": ""
            },
            "type": "contourcarpet"
           }
          ],
          "heatmap": [
           {
            "colorbar": {
             "outlinewidth": 0,
             "ticks": ""
            },
            "colorscale": [
             [
              0,
              "#0d0887"
             ],
             [
              0.1111111111111111,
              "#46039f"
             ],
             [
              0.2222222222222222,
              "#7201a8"
             ],
             [
              0.3333333333333333,
              "#9c179e"
             ],
             [
              0.4444444444444444,
              "#bd3786"
             ],
             [
              0.5555555555555556,
              "#d8576b"
             ],
             [
              0.6666666666666666,
              "#ed7953"
             ],
             [
              0.7777777777777778,
              "#fb9f3a"
             ],
             [
              0.8888888888888888,
              "#fdca26"
             ],
             [
              1,
              "#f0f921"
             ]
            ],
            "type": "heatmap"
           }
          ],
          "heatmapgl": [
           {
            "colorbar": {
             "outlinewidth": 0,
             "ticks": ""
            },
            "colorscale": [
             [
              0,
              "#0d0887"
             ],
             [
              0.1111111111111111,
              "#46039f"
             ],
             [
              0.2222222222222222,
              "#7201a8"
             ],
             [
              0.3333333333333333,
              "#9c179e"
             ],
             [
              0.4444444444444444,
              "#bd3786"
             ],
             [
              0.5555555555555556,
              "#d8576b"
             ],
             [
              0.6666666666666666,
              "#ed7953"
             ],
             [
              0.7777777777777778,
              "#fb9f3a"
             ],
             [
              0.8888888888888888,
              "#fdca26"
             ],
             [
              1,
              "#f0f921"
             ]
            ],
            "type": "heatmapgl"
           }
          ],
          "histogram": [
           {
            "marker": {
             "pattern": {
              "fillmode": "overlay",
              "size": 10,
              "solidity": 0.2
             }
            },
            "type": "histogram"
           }
          ],
          "histogram2d": [
           {
            "colorbar": {
             "outlinewidth": 0,
             "ticks": ""
            },
            "colorscale": [
             [
              0,
              "#0d0887"
             ],
             [
              0.1111111111111111,
              "#46039f"
             ],
             [
              0.2222222222222222,
              "#7201a8"
             ],
             [
              0.3333333333333333,
              "#9c179e"
             ],
             [
              0.4444444444444444,
              "#bd3786"
             ],
             [
              0.5555555555555556,
              "#d8576b"
             ],
             [
              0.6666666666666666,
              "#ed7953"
             ],
             [
              0.7777777777777778,
              "#fb9f3a"
             ],
             [
              0.8888888888888888,
              "#fdca26"
             ],
             [
              1,
              "#f0f921"
             ]
            ],
            "type": "histogram2d"
           }
          ],
          "histogram2dcontour": [
           {
            "colorbar": {
             "outlinewidth": 0,
             "ticks": ""
            },
            "colorscale": [
             [
              0,
              "#0d0887"
             ],
             [
              0.1111111111111111,
              "#46039f"
             ],
             [
              0.2222222222222222,
              "#7201a8"
             ],
             [
              0.3333333333333333,
              "#9c179e"
             ],
             [
              0.4444444444444444,
              "#bd3786"
             ],
             [
              0.5555555555555556,
              "#d8576b"
             ],
             [
              0.6666666666666666,
              "#ed7953"
             ],
             [
              0.7777777777777778,
              "#fb9f3a"
             ],
             [
              0.8888888888888888,
              "#fdca26"
             ],
             [
              1,
              "#f0f921"
             ]
            ],
            "type": "histogram2dcontour"
           }
          ],
          "mesh3d": [
           {
            "colorbar": {
             "outlinewidth": 0,
             "ticks": ""
            },
            "type": "mesh3d"
           }
          ],
          "parcoords": [
           {
            "line": {
             "colorbar": {
              "outlinewidth": 0,
              "ticks": ""
             }
            },
            "type": "parcoords"
           }
          ],
          "pie": [
           {
            "automargin": true,
            "type": "pie"
           }
          ],
          "scatter": [
           {
            "fillpattern": {
             "fillmode": "overlay",
             "size": 10,
             "solidity": 0.2
            },
            "type": "scatter"
           }
          ],
          "scatter3d": [
           {
            "line": {
             "colorbar": {
              "outlinewidth": 0,
              "ticks": ""
             }
            },
            "marker": {
             "colorbar": {
              "outlinewidth": 0,
              "ticks": ""
             }
            },
            "type": "scatter3d"
           }
          ],
          "scattercarpet": [
           {
            "marker": {
             "colorbar": {
              "outlinewidth": 0,
              "ticks": ""
             }
            },
            "type": "scattercarpet"
           }
          ],
          "scattergeo": [
           {
            "marker": {
             "colorbar": {
              "outlinewidth": 0,
              "ticks": ""
             }
            },
            "type": "scattergeo"
           }
          ],
          "scattergl": [
           {
            "marker": {
             "colorbar": {
              "outlinewidth": 0,
              "ticks": ""
             }
            },
            "type": "scattergl"
           }
          ],
          "scattermapbox": [
           {
            "marker": {
             "colorbar": {
              "outlinewidth": 0,
              "ticks": ""
             }
            },
            "type": "scattermapbox"
           }
          ],
          "scatterpolar": [
           {
            "marker": {
             "colorbar": {
              "outlinewidth": 0,
              "ticks": ""
             }
            },
            "type": "scatterpolar"
           }
          ],
          "scatterpolargl": [
           {
            "marker": {
             "colorbar": {
              "outlinewidth": 0,
              "ticks": ""
             }
            },
            "type": "scatterpolargl"
           }
          ],
          "scatterternary": [
           {
            "marker": {
             "colorbar": {
              "outlinewidth": 0,
              "ticks": ""
             }
            },
            "type": "scatterternary"
           }
          ],
          "surface": [
           {
            "colorbar": {
             "outlinewidth": 0,
             "ticks": ""
            },
            "colorscale": [
             [
              0,
              "#0d0887"
             ],
             [
              0.1111111111111111,
              "#46039f"
             ],
             [
              0.2222222222222222,
              "#7201a8"
             ],
             [
              0.3333333333333333,
              "#9c179e"
             ],
             [
              0.4444444444444444,
              "#bd3786"
             ],
             [
              0.5555555555555556,
              "#d8576b"
             ],
             [
              0.6666666666666666,
              "#ed7953"
             ],
             [
              0.7777777777777778,
              "#fb9f3a"
             ],
             [
              0.8888888888888888,
              "#fdca26"
             ],
             [
              1,
              "#f0f921"
             ]
            ],
            "type": "surface"
           }
          ],
          "table": [
           {
            "cells": {
             "fill": {
              "color": "#EBF0F8"
             },
             "line": {
              "color": "white"
             }
            },
            "header": {
             "fill": {
              "color": "#C8D4E3"
             },
             "line": {
              "color": "white"
             }
            },
            "type": "table"
           }
          ]
         },
         "layout": {
          "annotationdefaults": {
           "arrowcolor": "#2a3f5f",
           "arrowhead": 0,
           "arrowwidth": 1
          },
          "autotypenumbers": "strict",
          "coloraxis": {
           "colorbar": {
            "outlinewidth": 0,
            "ticks": ""
           }
          },
          "colorscale": {
           "diverging": [
            [
             0,
             "#8e0152"
            ],
            [
             0.1,
             "#c51b7d"
            ],
            [
             0.2,
             "#de77ae"
            ],
            [
             0.3,
             "#f1b6da"
            ],
            [
             0.4,
             "#fde0ef"
            ],
            [
             0.5,
             "#f7f7f7"
            ],
            [
             0.6,
             "#e6f5d0"
            ],
            [
             0.7,
             "#b8e186"
            ],
            [
             0.8,
             "#7fbc41"
            ],
            [
             0.9,
             "#4d9221"
            ],
            [
             1,
             "#276419"
            ]
           ],
           "sequential": [
            [
             0,
             "#0d0887"
            ],
            [
             0.1111111111111111,
             "#46039f"
            ],
            [
             0.2222222222222222,
             "#7201a8"
            ],
            [
             0.3333333333333333,
             "#9c179e"
            ],
            [
             0.4444444444444444,
             "#bd3786"
            ],
            [
             0.5555555555555556,
             "#d8576b"
            ],
            [
             0.6666666666666666,
             "#ed7953"
            ],
            [
             0.7777777777777778,
             "#fb9f3a"
            ],
            [
             0.8888888888888888,
             "#fdca26"
            ],
            [
             1,
             "#f0f921"
            ]
           ],
           "sequentialminus": [
            [
             0,
             "#0d0887"
            ],
            [
             0.1111111111111111,
             "#46039f"
            ],
            [
             0.2222222222222222,
             "#7201a8"
            ],
            [
             0.3333333333333333,
             "#9c179e"
            ],
            [
             0.4444444444444444,
             "#bd3786"
            ],
            [
             0.5555555555555556,
             "#d8576b"
            ],
            [
             0.6666666666666666,
             "#ed7953"
            ],
            [
             0.7777777777777778,
             "#fb9f3a"
            ],
            [
             0.8888888888888888,
             "#fdca26"
            ],
            [
             1,
             "#f0f921"
            ]
           ]
          },
          "colorway": [
           "#636efa",
           "#EF553B",
           "#00cc96",
           "#ab63fa",
           "#FFA15A",
           "#19d3f3",
           "#FF6692",
           "#B6E880",
           "#FF97FF",
           "#FECB52"
          ],
          "font": {
           "color": "#2a3f5f"
          },
          "geo": {
           "bgcolor": "white",
           "lakecolor": "white",
           "landcolor": "#E5ECF6",
           "showlakes": true,
           "showland": true,
           "subunitcolor": "white"
          },
          "hoverlabel": {
           "align": "left"
          },
          "hovermode": "closest",
          "mapbox": {
           "style": "light"
          },
          "paper_bgcolor": "white",
          "plot_bgcolor": "#E5ECF6",
          "polar": {
           "angularaxis": {
            "gridcolor": "white",
            "linecolor": "white",
            "ticks": ""
           },
           "bgcolor": "#E5ECF6",
           "radialaxis": {
            "gridcolor": "white",
            "linecolor": "white",
            "ticks": ""
           }
          },
          "scene": {
           "xaxis": {
            "backgroundcolor": "#E5ECF6",
            "gridcolor": "white",
            "gridwidth": 2,
            "linecolor": "white",
            "showbackground": true,
            "ticks": "",
            "zerolinecolor": "white"
           },
           "yaxis": {
            "backgroundcolor": "#E5ECF6",
            "gridcolor": "white",
            "gridwidth": 2,
            "linecolor": "white",
            "showbackground": true,
            "ticks": "",
            "zerolinecolor": "white"
           },
           "zaxis": {
            "backgroundcolor": "#E5ECF6",
            "gridcolor": "white",
            "gridwidth": 2,
            "linecolor": "white",
            "showbackground": true,
            "ticks": "",
            "zerolinecolor": "white"
           }
          },
          "shapedefaults": {
           "line": {
            "color": "#2a3f5f"
           }
          },
          "ternary": {
           "aaxis": {
            "gridcolor": "white",
            "linecolor": "white",
            "ticks": ""
           },
           "baxis": {
            "gridcolor": "white",
            "linecolor": "white",
            "ticks": ""
           },
           "bgcolor": "#E5ECF6",
           "caxis": {
            "gridcolor": "white",
            "linecolor": "white",
            "ticks": ""
           }
          },
          "title": {
           "x": 0.05
          },
          "xaxis": {
           "automargin": true,
           "gridcolor": "white",
           "linecolor": "white",
           "ticks": "",
           "title": {
            "standoff": 15
           },
           "zerolinecolor": "white",
           "zerolinewidth": 2
          },
          "yaxis": {
           "automargin": true,
           "gridcolor": "white",
           "linecolor": "white",
           "ticks": "",
           "title": {
            "standoff": 15
           },
           "zerolinecolor": "white",
           "zerolinewidth": 2
          }
         }
        },
        "xaxis": {
         "anchor": "y",
         "domain": [
          0,
          1
         ],
         "matches": "x6",
         "showticklabels": false
        },
        "xaxis2": {
         "anchor": "y2",
         "domain": [
          0,
          1
         ],
         "matches": "x6",
         "showticklabels": false
        },
        "xaxis3": {
         "anchor": "y3",
         "domain": [
          0,
          1
         ],
         "matches": "x6",
         "showticklabels": false
        },
        "xaxis4": {
         "anchor": "y4",
         "domain": [
          0,
          1
         ],
         "matches": "x6",
         "showticklabels": false
        },
        "xaxis5": {
         "anchor": "y5",
         "domain": [
          0,
          1
         ],
         "matches": "x6",
         "showticklabels": false
        },
        "xaxis6": {
         "anchor": "y6",
         "domain": [
          0,
          1
         ]
        },
        "yaxis": {
         "anchor": "x",
         "domain": [
          0.9166666666666666,
          1
         ]
        },
        "yaxis2": {
         "anchor": "x2",
         "domain": [
          0.7333333333333334,
          0.8166666666666668
         ]
        },
        "yaxis3": {
         "anchor": "x3",
         "domain": [
          0.55,
          0.6333333333333334
         ]
        },
        "yaxis4": {
         "anchor": "x4",
         "domain": [
          0.3666666666666667,
          0.45
         ]
        },
        "yaxis5": {
         "anchor": "x5",
         "domain": [
          0.18333333333333335,
          0.26666666666666666
         ]
        },
        "yaxis6": {
         "anchor": "x6",
         "domain": [
          0,
          0.08333333333333333
         ]
        }
       }
      }
     },
     "metadata": {},
     "output_type": "display_data"
    }
   ],
   "source": [
    "sr = 30\n",
    "noise_max = 0.1\n",
    "\n",
    "plot_df = df_omega[df_omega['trial'] == 20]\n",
    "\n",
    "pfig = PlotlyFig(rows=6, cols=1, shared_xaxes=True)\n",
    "pfig.plot(plot_df['rel_time'], plot_df['angular_velocity'], color='red', mode='lines', row=1, col=1, name='angular_velocity')\n",
    "pfig.plot(plot_df['rel_time'], plot_df['Neck_Head_angles'], color='green', mode='lines', row=2, col=1, name='Neck_Head_angles')\n",
    "pfig.plot(plot_df['rel_time'], plot_df['rotation'], color='black', mode='lines', row=3, col=1, name='rotation')\n",
    "pfig.plot(plot_df['rel_time'], plot_df['Head_v_angles'], color='yellow', mode='lines', row=4, col=1, name='Head_v_angles')\n",
    "pfig.plot(plot_df['rel_time'], plot_df['revolution'], color='blue', mode='lines', row=5, col=1, name='revolution')\n",
    "pfig.plot(plot_df['rel_time'], plot_df['dPhi'], color='purple', mode='lines', row=6, col=1, name='dPhi')\n",
    "\n",
    "dec_time = plot_df[plot_df['decision'].isin(['ACC', 'REJ'])]['rel_time'].values\n",
    "tentry_time = plot_df[plot_df['decision'] == 'T_Entry']['rel_time'].values\n",
    "if dec_time:\n",
    "    pfig.fig.add_vline(x=dec_time[0], line=dict(color='green'))\n",
    "if tentry_time:\n",
    "    pfig.fig.add_vline(x=tentry_time[0], line=dict(color='green'))\n",
    "pfig.fig.update_layout(height=200*5)\n",
    "\n",
    "pfig.show()"
   ]
  },
  {
   "cell_type": "code",
   "execution_count": 189,
   "metadata": {},
   "outputs": [
    {
     "data": {
      "image/png": "[encoded data removed]",
      "text/plain": [
       "<Figure size 2000x2000 with 1 Axes>"
      ]
     },
     "metadata": {},
     "output_type": "display_data"
    }
   ],
   "source": [
    "from scipy.special import expit\n",
    "import seaborn as sns\n",
    "\n",
    "beta=1/2\n",
    "\n",
    "head_neck_x = plot_df['Neck_Head_x']\n",
    "head_neck_y = plot_df['Neck_Head_y']\n",
    "#head_vx = expit(beta*plot_df['Head velocity x'].values) - 0.5\n",
    "#head_vy = expit(beta*plot_df['Head velocity y'].values) - 0.5\n",
    "#head_vx = plot_df['Head velocity x'].values\n",
    "#head_vy = plot_df['Head velocity y'].values\n",
    "head_vx = plot_df['Head_vx']\n",
    "head_vy = plot_df['Head_vy']\n",
    "\n",
    "fig = plt.figure(figsize=(20, 20))\n",
    "ax = plt.gca()\n",
    "sns.scatterplot(data=plot_df, x='warped Head x', y='warped Head y', color='r', s=20)\n",
    "# sns.scatterplot(data=plot_df[(plot_df['rel_time'] >=1.30) & (plot_df['rel_time'] <= 1.60)], x='warped Neck x', y='warped Neck y', color='r', s=20)\n",
    "ax.quiver(plot_df['warped Head x'], plot_df['warped Head y'], head_neck_x, -head_neck_y, color='r', width=0.001)\n",
    "ax.quiver(plot_df['warped Head x'], plot_df['warped Head y'], head_vx, -head_vy, color='b', width=0.001)\n",
    "for i in range(len(plot_df)):\n",
    "    # if i >= 33:\n",
    "    ax.text(plot_df['warped Head x'].iat[i], plot_df['warped Head y'].iat[i], i+1, fontsize=15)\n",
    "# ax.set_xlim((340, 360))\n",
    "# ax.set_ylim((18, 24))\n",
    "ax.invert_yaxis()\n",
    "# ax.axvline(1.47, c='k', ls='--')"
   ]
  },
  {
   "cell_type": "code",
   "execution_count": null,
   "metadata": {},
   "outputs": [],
   "source": []
  }
 ],
 "metadata": {
  "kernelspec": {
   "display_name": "base",
   "language": "python",
   "name": "python3"
  },
  "language_info": {
   "codemirror_mode": {
    "name": "ipython",
    "version": 3
   },
   "file_extension": ".py",
   "mimetype": "text/x-python",
   "name": "python",
   "nbconvert_exporter": "python",
   "pygments_lexer": "ipython3",
   "version": "3.11.7"
  }
 },
 "nbformat": 4,
 "nbformat_minor": 2
}
