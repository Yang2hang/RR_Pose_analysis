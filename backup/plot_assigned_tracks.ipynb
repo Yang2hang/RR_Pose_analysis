{
 "cells": [
  {
   "cell_type": "code",
   "execution_count": 1,
   "metadata": {},
   "outputs": [],
   "source": [
    "import pandas as pd\n",
    "import numpy as np\n",
    "import os\n",
    "import matplotlib.pyplot as plt\n",
    "import seaborn as sns\n",
    "from os.path import join as oj\n",
    "import pandas as pd\n",
    "import ipywidgets as widgets\n",
    "from IPython.display import display, clear_output\n",
    "import plotly.express as px\n",
    "import plotly.graph_objects as go\n",
    "\n",
    "from get_pose_mat_wide import get_pose_mat_wide"
   ]
  },
  {
   "cell_type": "code",
   "execution_count": 3,
   "metadata": {},
   "outputs": [],
   "source": [
    "root_folder = r'/Users/yang/Documents/Wilbrecht_Lab/data/processed_tracks'\n",
    "combined_df = pd.read_csv(oj(root_folder, 'combined_df.csv'))"
   ]
  },
  {
   "cell_type": "code",
   "execution_count": 4,
   "metadata": {},
   "outputs": [
    {
     "name": "stdout",
     "output_type": "stream",
     "text": [
      "(1726631, 31)\n"
     ]
    },
    {
     "data": {
      "text/html": [
       "<div>\n",
       "<style scoped>\n",
       "    .dataframe tbody tr th:only-of-type {\n",
       "        vertical-align: middle;\n",
       "    }\n",
       "\n",
       "    .dataframe tbody tr th {\n",
       "        vertical-align: top;\n",
       "    }\n",
       "\n",
       "    .dataframe thead th {\n",
       "        text-align: right;\n",
       "    }\n",
       "</style>\n",
       "<table border=\"1\" class=\"dataframe\">\n",
       "  <thead>\n",
       "    <tr style=\"text-align: right;\">\n",
       "      <th></th>\n",
       "      <th>Head x</th>\n",
       "      <th>Head y</th>\n",
       "      <th>Neck x</th>\n",
       "      <th>Neck y</th>\n",
       "      <th>Torso x</th>\n",
       "      <th>Torso y</th>\n",
       "      <th>Tailhead x</th>\n",
       "      <th>Tailhead y</th>\n",
       "      <th>warped Head x</th>\n",
       "      <th>warped Head y</th>\n",
       "      <th>...</th>\n",
       "      <th>lapIndex</th>\n",
       "      <th>trial</th>\n",
       "      <th>decision</th>\n",
       "      <th>Head_vx</th>\n",
       "      <th>Head_vy</th>\n",
       "      <th>Head_v</th>\n",
       "      <th>angular_velocity</th>\n",
       "      <th>dPhi</th>\n",
       "      <th>animal</th>\n",
       "      <th>session</th>\n",
       "    </tr>\n",
       "  </thead>\n",
       "  <tbody>\n",
       "    <tr>\n",
       "      <th>0</th>\n",
       "      <td>188.623566</td>\n",
       "      <td>28.475878</td>\n",
       "      <td>191.675903</td>\n",
       "      <td>23.529375</td>\n",
       "      <td>195.564896</td>\n",
       "      <td>11.922485</td>\n",
       "      <td>199.491653</td>\n",
       "      <td>6.846012</td>\n",
       "      <td>579.176095</td>\n",
       "      <td>299.356675</td>\n",
       "      <td>...</td>\n",
       "      <td>0</td>\n",
       "      <td>4</td>\n",
       "      <td>NaN</td>\n",
       "      <td>33.297947</td>\n",
       "      <td>-492.902488</td>\n",
       "      <td>494.025926</td>\n",
       "      <td>-8.542783</td>\n",
       "      <td>0.007309</td>\n",
       "      <td>RRM028</td>\n",
       "      <td>Day141</td>\n",
       "    </tr>\n",
       "    <tr>\n",
       "      <th>1</th>\n",
       "      <td>188.060455</td>\n",
       "      <td>35.737679</td>\n",
       "      <td>189.072708</td>\n",
       "      <td>28.708460</td>\n",
       "      <td>192.960205</td>\n",
       "      <td>18.967358</td>\n",
       "      <td>196.653687</td>\n",
       "      <td>7.442016</td>\n",
       "      <td>580.286027</td>\n",
       "      <td>282.926592</td>\n",
       "      <td>...</td>\n",
       "      <td>0</td>\n",
       "      <td>4</td>\n",
       "      <td>NaN</td>\n",
       "      <td>29.372719</td>\n",
       "      <td>-487.785702</td>\n",
       "      <td>488.669262</td>\n",
       "      <td>-5.358881</td>\n",
       "      <td>0.006488</td>\n",
       "      <td>RRM028</td>\n",
       "      <td>Day141</td>\n",
       "    </tr>\n",
       "    <tr>\n",
       "      <th>2</th>\n",
       "      <td>187.637146</td>\n",
       "      <td>43.289207</td>\n",
       "      <td>188.460831</td>\n",
       "      <td>36.384815</td>\n",
       "      <td>192.207230</td>\n",
       "      <td>24.570004</td>\n",
       "      <td>195.903427</td>\n",
       "      <td>12.627603</td>\n",
       "      <td>581.134276</td>\n",
       "      <td>266.837628</td>\n",
       "      <td>...</td>\n",
       "      <td>0</td>\n",
       "      <td>4</td>\n",
       "      <td>NaN</td>\n",
       "      <td>26.170808</td>\n",
       "      <td>-479.931514</td>\n",
       "      <td>480.644535</td>\n",
       "      <td>-0.888360</td>\n",
       "      <td>0.014482</td>\n",
       "      <td>RRM028</td>\n",
       "      <td>Day141</td>\n",
       "    </tr>\n",
       "    <tr>\n",
       "      <th>3</th>\n",
       "      <td>187.621353</td>\n",
       "      <td>48.790691</td>\n",
       "      <td>188.307617</td>\n",
       "      <td>43.796303</td>\n",
       "      <td>191.519562</td>\n",
       "      <td>32.192448</td>\n",
       "      <td>195.331573</td>\n",
       "      <td>20.492044</td>\n",
       "      <td>582.030747</td>\n",
       "      <td>250.931157</td>\n",
       "      <td>...</td>\n",
       "      <td>0</td>\n",
       "      <td>4</td>\n",
       "      <td>NaN</td>\n",
       "      <td>44.096649</td>\n",
       "      <td>-493.561166</td>\n",
       "      <td>495.527133</td>\n",
       "      <td>1.670589</td>\n",
       "      <td>0.045977</td>\n",
       "      <td>RRM028</td>\n",
       "      <td>Day141</td>\n",
       "    </tr>\n",
       "    <tr>\n",
       "      <th>4</th>\n",
       "      <td>187.166351</td>\n",
       "      <td>56.842167</td>\n",
       "      <td>187.897903</td>\n",
       "      <td>51.815838</td>\n",
       "      <td>191.288147</td>\n",
       "      <td>39.605297</td>\n",
       "      <td>195.342529</td>\n",
       "      <td>27.651142</td>\n",
       "      <td>584.074053</td>\n",
       "      <td>233.933550</td>\n",
       "      <td>...</td>\n",
       "      <td>0</td>\n",
       "      <td>4</td>\n",
       "      <td>NaN</td>\n",
       "      <td>77.330604</td>\n",
       "      <td>-524.327621</td>\n",
       "      <td>529.999506</td>\n",
       "      <td>2.489680</td>\n",
       "      <td>0.025462</td>\n",
       "      <td>RRM028</td>\n",
       "      <td>Day141</td>\n",
       "    </tr>\n",
       "  </tbody>\n",
       "</table>\n",
       "<p>5 rows × 31 columns</p>\n",
       "</div>"
      ],
      "text/plain": [
       "       Head x     Head y      Neck x     Neck y     Torso x    Torso y  \\\n",
       "0  188.623566  28.475878  191.675903  23.529375  195.564896  11.922485   \n",
       "1  188.060455  35.737679  189.072708  28.708460  192.960205  18.967358   \n",
       "2  187.637146  43.289207  188.460831  36.384815  192.207230  24.570004   \n",
       "3  187.621353  48.790691  188.307617  43.796303  191.519562  32.192448   \n",
       "4  187.166351  56.842167  187.897903  51.815838  191.288147  39.605297   \n",
       "\n",
       "   Tailhead x  Tailhead y  warped Head x  warped Head y  ...  lapIndex  trial  \\\n",
       "0  199.491653    6.846012     579.176095     299.356675  ...         0      4   \n",
       "1  196.653687    7.442016     580.286027     282.926592  ...         0      4   \n",
       "2  195.903427   12.627603     581.134276     266.837628  ...         0      4   \n",
       "3  195.331573   20.492044     582.030747     250.931157  ...         0      4   \n",
       "4  195.342529   27.651142     584.074053     233.933550  ...         0      4   \n",
       "\n",
       "   decision    Head_vx     Head_vy      Head_v  angular_velocity      dPhi  \\\n",
       "0       NaN  33.297947 -492.902488  494.025926         -8.542783  0.007309   \n",
       "1       NaN  29.372719 -487.785702  488.669262         -5.358881  0.006488   \n",
       "2       NaN  26.170808 -479.931514  480.644535         -0.888360  0.014482   \n",
       "3       NaN  44.096649 -493.561166  495.527133          1.670589  0.045977   \n",
       "4       NaN  77.330604 -524.327621  529.999506          2.489680  0.025462   \n",
       "\n",
       "   animal  session  \n",
       "0  RRM028   Day141  \n",
       "1  RRM028   Day141  \n",
       "2  RRM028   Day141  \n",
       "3  RRM028   Day141  \n",
       "4  RRM028   Day141  \n",
       "\n",
       "[5 rows x 31 columns]"
      ]
     },
     "execution_count": 4,
     "metadata": {},
     "output_type": "execute_result"
    }
   ],
   "source": [
    "print(combined_df.shape)\n",
    "combined_df.head()"
   ]
  },
  {
   "cell_type": "code",
   "execution_count": 9,
   "metadata": {},
   "outputs": [],
   "source": [
    "def plot_assigned_tracks(df, condition_func):\n",
    "    '''\n",
    "    Plot the trials that satisfy the given condition\n",
    "    \n",
    "    PART I: Iterate each row in df, extract trial-wise features and record them into result_df\n",
    "    '''\n",
    "    current_trial_num = np.nan\n",
    "    current_session = np.nan\n",
    "    current_animal = np.nan\n",
    "    current_bonsai_decision = np.nan\n",
    "    current_decision = np.nan\n",
    "    current_restaurant = np.nan\n",
    "    bonsai_decision = np.nan\n",
    "    decision = np.nan\n",
    "    sum_of_speed = 0\n",
    "    speed_count = 0\n",
    "    \n",
    "    #bonsai_decision_list = []\n",
    "    decision_list = []\n",
    "    straight_walking_speed_list =[]\n",
    "    animal_list = []\n",
    "    session_list = []\n",
    "    trial_list = []\n",
    "\n",
    "    for index, row in df.iterrows():\n",
    "        bonsai_decision = row['label']\n",
    "        decision = row['decision']\n",
    "        trial_num = row['trial']\n",
    "        animal = row['animal']\n",
    "        session = row['session']\n",
    "        speed = np.sqrt(row['Head vx']**2 + row['Head vy']**2)\n",
    "\n",
    "        restaurant = row['restaurant']\n",
    "        \n",
    "    \n",
    "        if trial_num != current_trial_num: # Start of a new trial\n",
    "            if speed_count != 0:\n",
    "                average_speed = sum_of_speed/speed_count\n",
    "            else:\n",
    "                average_speed = np.nan\n",
    "\n",
    "            if current_bonsai_decision == 'collection':\n",
    "                current_bonsai_decision = 'ACC'\n",
    "            \n",
    "            if not np.isnan(current_trial_num):\n",
    "                if condition_func(current_decision, current_bonsai_decision, average_speed, current_restaurant, current_animal, current_session, current_trial_num):\n",
    "                    #bonsai_decision_list.append(current_bonsai_decision)\n",
    "                    decision_list.append(current_decision)\n",
    "                    straight_walking_speed_list.append(average_speed)\n",
    "                    animal_list.append(current_animal)\n",
    "                    session_list.append(current_session)\n",
    "                    trial_list.append(current_trial_num)\n",
    "\n",
    "            current_restaurant = restaurant\n",
    "            current_bonsai_decision = np.nan    \n",
    "            current_decision = np.nan\n",
    "            current_trial_num = trial_num \n",
    "            current_session = session\n",
    "            current_animal = animal\n",
    "            sum_of_speed = 0\n",
    "            speed_count = 0\n",
    "        \n",
    "        if not pd.isna(decision):\n",
    "            current_decision = decision    \n",
    "        if not pd.isna(bonsai_decision):\n",
    "            current_bonsai_decision = bonsai_decision\n",
    "        \n",
    "        if pd.isna(current_decision) and (speed < 300):\n",
    "            sum_of_speed += speed\n",
    "            speed_count += 1\n",
    "    \n",
    "\n",
    "    result_df = pd.DataFrame({\n",
    "        #'bonsai decision': bonsai_decision_list,\n",
    "        'decision': decision_list,\n",
    "        'straight_walking_speed': straight_walking_speed_list,\n",
    "        'animal': animal_list,\n",
    "        'session': session_list,\n",
    "        'trial': trial_list\n",
    "    })\n",
    "    plt.hist(straight_walking_speed_list, bins=50)\n",
    "    plt.show()\n",
    "    \n",
    "    '''\n",
    "    PART II: Iterate through each row in result_df, locate them in df and then plot them.\n",
    "    '''\n",
    "    # Extract animal, session, and trial info from the decision dataframe\n",
    "    decision_info = result_df[['animal', 'session', 'trial']]\n",
    "    filtered_df = df[\n",
    "        df[['animal', 'session', 'trial']].apply(tuple, axis=1).isin(decision_info.apply(tuple, axis=1))\n",
    "    ]\n",
    "    \n",
    "    # plot each trial using plotly\n",
    "    plt.figure(figsize=(10, 10))\n",
    "\n",
    "    trial_palette = sns.color_palette('deep', n_colors=len(filtered_df['trial'].unique()))\n",
    "    trial_palette_dict = {trial_num: color for trial_num, color in zip(filtered_df['trial'].unique(), trial_palette)}\n",
    "    \n",
    "    decision_palette = sns.color_palette('deep', n_colors=len(result_df['decision'].unique()))\n",
    "    decision_palette_dict = {decision: color for decision, color in zip(filtered_df['decision'].unique(), decision_palette)}\n",
    "    decision_palette_dict = {\n",
    "        \"ACC\": (0, 1, 0),  # Green with transparency\n",
    "        \"REJ\": (1, 0, 0),  # Red with transparency\n",
    "        \"quit\": (0, 0, 1),  # Blue with transparency\n",
    "        \"T-Entry\": (1, 1, 1), # black\n",
    "        np.nan: (1, 1, 1) # black\n",
    "    }\n",
    "    fig = go.Figure()\n",
    "    \n",
    "    # Iterate through each row in result_df\n",
    "    for _, row in result_df.iterrows():\n",
    "        # Extract animal, session, and trial information\n",
    "        decision, animal, session, trial = row['decision'], row['animal'], row['session'], row['trial']\n",
    "        \n",
    "        # Filter df for the current trial\n",
    "        filtered_trial = df[(df['animal'] == animal) & (df['session'] == session) & (df['trial'] == trial)]\n",
    "        \n",
    "        # Determine the color for the current trial\n",
    "        color = 'rgba' + str(tuple(int(c * 255) for c in decision_palette_dict[decision]) + (0.2,))\n",
    "        \n",
    "        # Add the trial data to the plot\n",
    "        fig.add_trace(go.Scatter(\n",
    "            x=filtered_trial['warped Head x'],\n",
    "            y=filtered_trial['warped Head y'],\n",
    "            mode='lines',\n",
    "            line=dict(color=color, width=0.5),\n",
    "            showlegend=False\n",
    "        ))\n",
    "    \n",
    "    fig.update_layout(\n",
    "        xaxis_title='warped Head x',\n",
    "        yaxis_title='warped Head y',\n",
    "        yaxis=dict(autorange='reversed'),\n",
    "        #width = 600,\n",
    "        #height = 1000\n",
    "    )\n",
    "    \n",
    "    # Adding vertical and horizontal lines and text annotations\n",
    "    fig.add_vline(x=282, line=dict(color='red', dash='dash', width=1))\n",
    "    fig.add_annotation(x=285, y=142, text='REJ', showarrow=False, font=dict(color='red'), xanchor='right', yanchor='top')\n",
    "\n",
    "    fig.add_vline(x=309, line=dict(color='red', dash='dash', width=1))\n",
    "    fig.add_annotation(x=314, y=142, text='ACC', showarrow=False, font=dict(color='red'), xanchor='right', yanchor='top')\n",
    "\n",
    "    fig.add_hline(y=46, line=dict(color='red', dash='dash', width=1))\n",
    "    fig.add_annotation(x=333, y=46, text='T_Entry', showarrow=False, font=dict(color='red'), xanchor='right', yanchor='bottom')\n",
    "\n",
    "    fig.show()"
   ]
  },
  {
   "cell_type": "code",
   "execution_count": 10,
   "metadata": {},
   "outputs": [],
   "source": [
    "def interactive_analysis(combined_df, condition_func):\n",
    "    \"\"\"\n",
    "    Use the slider to adjust the start and length of the range of combined_df.\n",
    "    Then plot the trials that satisfy the given condition\n",
    "    \n",
    "    Parameters:\n",
    "    - combined_df: The DataFrame to analyze.\n",
    "    - condition_func: A lambda function to determine the condition for plotting.\n",
    "    \"\"\"\n",
    "    \n",
    "    # Function to update the selected range based on slider values\n",
    "    def update_range(range_value, interval):\n",
    "        global selected_range\n",
    "        global df_subset\n",
    "        selected_range = [range_value, range_value + interval]\n",
    "        df_subset = combined_df.iloc[selected_range[0]:selected_range[1]]\n",
    "        print(f\"Selected range: {selected_range}\")\n",
    "\n",
    "    # Create slider widgets\n",
    "    range_slider = widgets.IntSlider(value=0, min=0, max=len(combined_df), step=100, description='Start:')\n",
    "    interval_slider = widgets.IntSlider(value=10000, min=0, max=len(combined_df), step=100, description='Length:')\n",
    "    interactive_widget = widgets.interactive(update_range, range_value=range_slider, interval=interval_slider)\n",
    "    display(interactive_widget)\n",
    "\n",
    "    # Create an output widget for the plots\n",
    "    output = widgets.Output()\n",
    "\n",
    "    # Button to trigger further analysis\n",
    "    analyze_button = widgets.Button(description=\"Plot\")\n",
    "\n",
    "    # Function to handle button click\n",
    "    def on_analyze_button_clicked(b):\n",
    "        with output:\n",
    "            clear_output(wait=True)  # Clear previous plots\n",
    "            plot_assigned_tracks(df_subset, condition_func)\n",
    "    \n",
    "\n",
    "    # Link the button to the handler function\n",
    "    analyze_button.on_click(on_analyze_button_clicked)\n",
    "\n",
    "    # Display the button and output widget\n",
    "    display(analyze_button)\n",
    "    display(output)\n",
    "    "
   ]
  },
  {
   "cell_type": "code",
   "execution_count": 11,
   "metadata": {},
   "outputs": [
    {
     "ename": "KeyError",
     "evalue": "'Head vx'",
     "output_type": "error",
     "traceback": [
      "\u001b[0;31m---------------------------------------------------------------------------\u001b[0m",
      "\u001b[0;31mKeyError\u001b[0m                                  Traceback (most recent call last)",
      "File \u001b[0;32m/opt/anaconda3/lib/python3.11/site-packages/pandas/core/indexes/base.py:3802\u001b[0m, in \u001b[0;36mIndex.get_loc\u001b[0;34m(self, key, method, tolerance)\u001b[0m\n\u001b[1;32m   3801\u001b[0m \u001b[38;5;28;01mtry\u001b[39;00m:\n\u001b[0;32m-> 3802\u001b[0m     \u001b[38;5;28;01mreturn\u001b[39;00m \u001b[38;5;28mself\u001b[39m\u001b[38;5;241m.\u001b[39m_engine\u001b[38;5;241m.\u001b[39mget_loc(casted_key)\n\u001b[1;32m   3803\u001b[0m \u001b[38;5;28;01mexcept\u001b[39;00m \u001b[38;5;167;01mKeyError\u001b[39;00m \u001b[38;5;28;01mas\u001b[39;00m err:\n",
      "File \u001b[0;32m/opt/anaconda3/lib/python3.11/site-packages/pandas/_libs/index.pyx:138\u001b[0m, in \u001b[0;36mpandas._libs.index.IndexEngine.get_loc\u001b[0;34m()\u001b[0m\n",
      "File \u001b[0;32m/opt/anaconda3/lib/python3.11/site-packages/pandas/_libs/index.pyx:165\u001b[0m, in \u001b[0;36mpandas._libs.index.IndexEngine.get_loc\u001b[0;34m()\u001b[0m\n",
      "File \u001b[0;32mpandas/_libs/hashtable_class_helper.pxi:5745\u001b[0m, in \u001b[0;36mpandas._libs.hashtable.PyObjectHashTable.get_item\u001b[0;34m()\u001b[0m\n",
      "File \u001b[0;32mpandas/_libs/hashtable_class_helper.pxi:5753\u001b[0m, in \u001b[0;36mpandas._libs.hashtable.PyObjectHashTable.get_item\u001b[0;34m()\u001b[0m\n",
      "\u001b[0;31mKeyError\u001b[0m: 'Head vx'",
      "\nThe above exception was the direct cause of the following exception:\n",
      "\u001b[0;31mKeyError\u001b[0m                                  Traceback (most recent call last)",
      "Cell \u001b[0;32mIn[11], line 5\u001b[0m\n\u001b[1;32m      1\u001b[0m condition_func \u001b[38;5;241m=\u001b[39m \u001b[38;5;28;01mlambda\u001b[39;00m sleap_decision, bonsai_decision, average_speed, restaurant, animal, session, trial: (\n\u001b[1;32m      2\u001b[0m     \u001b[38;5;28;01mTrue\u001b[39;00m\n\u001b[1;32m      3\u001b[0m     )\n\u001b[0;32m----> 5\u001b[0m plot_assigned_tracks(combined_df[\u001b[38;5;241m1\u001b[39m:\u001b[38;5;241m100000\u001b[39m], condition_func)\n",
      "Cell \u001b[0;32mIn[9], line 31\u001b[0m, in \u001b[0;36mplot_assigned_tracks\u001b[0;34m(df, condition_func)\u001b[0m\n\u001b[1;32m     29\u001b[0m animal \u001b[38;5;241m=\u001b[39m row[\u001b[38;5;124m'\u001b[39m\u001b[38;5;124manimal\u001b[39m\u001b[38;5;124m'\u001b[39m]\n\u001b[1;32m     30\u001b[0m session \u001b[38;5;241m=\u001b[39m row[\u001b[38;5;124m'\u001b[39m\u001b[38;5;124msession\u001b[39m\u001b[38;5;124m'\u001b[39m]\n\u001b[0;32m---> 31\u001b[0m speed \u001b[38;5;241m=\u001b[39m np\u001b[38;5;241m.\u001b[39msqrt(row[\u001b[38;5;124m'\u001b[39m\u001b[38;5;124mHead vx\u001b[39m\u001b[38;5;124m'\u001b[39m]\u001b[38;5;241m*\u001b[39m\u001b[38;5;241m*\u001b[39m\u001b[38;5;241m2\u001b[39m \u001b[38;5;241m+\u001b[39m row[\u001b[38;5;124m'\u001b[39m\u001b[38;5;124mHead vy\u001b[39m\u001b[38;5;124m'\u001b[39m]\u001b[38;5;241m*\u001b[39m\u001b[38;5;241m*\u001b[39m\u001b[38;5;241m2\u001b[39m)\n\u001b[1;32m     33\u001b[0m restaurant \u001b[38;5;241m=\u001b[39m row[\u001b[38;5;124m'\u001b[39m\u001b[38;5;124mrestaurant\u001b[39m\u001b[38;5;124m'\u001b[39m]\n\u001b[1;32m     36\u001b[0m \u001b[38;5;28;01mif\u001b[39;00m trial_num \u001b[38;5;241m!=\u001b[39m current_trial_num: \u001b[38;5;66;03m# Start of a new trial\u001b[39;00m\n",
      "File \u001b[0;32m/opt/anaconda3/lib/python3.11/site-packages/pandas/core/series.py:981\u001b[0m, in \u001b[0;36mSeries.__getitem__\u001b[0;34m(self, key)\u001b[0m\n\u001b[1;32m    978\u001b[0m     \u001b[38;5;28;01mreturn\u001b[39;00m \u001b[38;5;28mself\u001b[39m\u001b[38;5;241m.\u001b[39m_values[key]\n\u001b[1;32m    980\u001b[0m \u001b[38;5;28;01melif\u001b[39;00m key_is_scalar:\n\u001b[0;32m--> 981\u001b[0m     \u001b[38;5;28;01mreturn\u001b[39;00m \u001b[38;5;28mself\u001b[39m\u001b[38;5;241m.\u001b[39m_get_value(key)\n\u001b[1;32m    983\u001b[0m \u001b[38;5;28;01mif\u001b[39;00m is_hashable(key):\n\u001b[1;32m    984\u001b[0m     \u001b[38;5;66;03m# Otherwise index.get_value will raise InvalidIndexError\u001b[39;00m\n\u001b[1;32m    985\u001b[0m     \u001b[38;5;28;01mtry\u001b[39;00m:\n\u001b[1;32m    986\u001b[0m         \u001b[38;5;66;03m# For labels that don't resolve as scalars like tuples and frozensets\u001b[39;00m\n",
      "File \u001b[0;32m/opt/anaconda3/lib/python3.11/site-packages/pandas/core/series.py:1089\u001b[0m, in \u001b[0;36mSeries._get_value\u001b[0;34m(self, label, takeable)\u001b[0m\n\u001b[1;32m   1086\u001b[0m     \u001b[38;5;28;01mreturn\u001b[39;00m \u001b[38;5;28mself\u001b[39m\u001b[38;5;241m.\u001b[39m_values[label]\n\u001b[1;32m   1088\u001b[0m \u001b[38;5;66;03m# Similar to Index.get_value, but we do not fall back to positional\u001b[39;00m\n\u001b[0;32m-> 1089\u001b[0m loc \u001b[38;5;241m=\u001b[39m \u001b[38;5;28mself\u001b[39m\u001b[38;5;241m.\u001b[39mindex\u001b[38;5;241m.\u001b[39mget_loc(label)\n\u001b[1;32m   1090\u001b[0m \u001b[38;5;28;01mreturn\u001b[39;00m \u001b[38;5;28mself\u001b[39m\u001b[38;5;241m.\u001b[39mindex\u001b[38;5;241m.\u001b[39m_get_values_for_loc(\u001b[38;5;28mself\u001b[39m, loc, label)\n",
      "File \u001b[0;32m/opt/anaconda3/lib/python3.11/site-packages/pandas/core/indexes/base.py:3804\u001b[0m, in \u001b[0;36mIndex.get_loc\u001b[0;34m(self, key, method, tolerance)\u001b[0m\n\u001b[1;32m   3802\u001b[0m     \u001b[38;5;28;01mreturn\u001b[39;00m \u001b[38;5;28mself\u001b[39m\u001b[38;5;241m.\u001b[39m_engine\u001b[38;5;241m.\u001b[39mget_loc(casted_key)\n\u001b[1;32m   3803\u001b[0m \u001b[38;5;28;01mexcept\u001b[39;00m \u001b[38;5;167;01mKeyError\u001b[39;00m \u001b[38;5;28;01mas\u001b[39;00m err:\n\u001b[0;32m-> 3804\u001b[0m     \u001b[38;5;28;01mraise\u001b[39;00m \u001b[38;5;167;01mKeyError\u001b[39;00m(key) \u001b[38;5;28;01mfrom\u001b[39;00m \u001b[38;5;21;01merr\u001b[39;00m\n\u001b[1;32m   3805\u001b[0m \u001b[38;5;28;01mexcept\u001b[39;00m \u001b[38;5;167;01mTypeError\u001b[39;00m:\n\u001b[1;32m   3806\u001b[0m     \u001b[38;5;66;03m# If we have a listlike key, _check_indexing_error will raise\u001b[39;00m\n\u001b[1;32m   3807\u001b[0m     \u001b[38;5;66;03m#  InvalidIndexError. Otherwise we fall through and re-raise\u001b[39;00m\n\u001b[1;32m   3808\u001b[0m     \u001b[38;5;66;03m#  the TypeError.\u001b[39;00m\n\u001b[1;32m   3809\u001b[0m     \u001b[38;5;28mself\u001b[39m\u001b[38;5;241m.\u001b[39m_check_indexing_error(key)\n",
      "\u001b[0;31mKeyError\u001b[0m: 'Head vx'"
     ]
    }
   ],
   "source": [
    "condition_func = lambda sleap_decision, bonsai_decision, average_speed, restaurant, animal, session, trial: (\n",
    "    True\n",
    "    )\n",
    "\n",
    "plot_assigned_tracks(combined_df[1:100000], condition_func)"
   ]
  },
  {
   "cell_type": "markdown",
   "metadata": {},
   "source": [
    "Straight walking average speed is not affecting bonsai vs sleap decision.\n",
    "Some implication from the trajectories. see in notion"
   ]
  },
  {
   "cell_type": "code",
   "execution_count": null,
   "metadata": {},
   "outputs": [
    {
     "data": {
      "application/vnd.jupyter.widget-view+json": {
       "model_id": "e03c61556aca4f79bc244ae44685de8b",
       "version_major": 2,
       "version_minor": 0
      },
      "text/plain": [
       "interactive(children=(IntSlider(value=0, description='Start:', max=1643207, step=100), IntSlider(value=10000, …"
      ]
     },
     "metadata": {},
     "output_type": "display_data"
    },
    {
     "data": {
      "application/vnd.jupyter.widget-view+json": {
       "model_id": "62e47b8f28744400aca8f4ce65aed76f",
       "version_major": 2,
       "version_minor": 0
      },
      "text/plain": [
       "Button(description='Plot', style=ButtonStyle())"
      ]
     },
     "metadata": {},
     "output_type": "display_data"
    },
    {
     "data": {
      "application/vnd.jupyter.widget-view+json": {
       "model_id": "e210b60d2e474c66bba9fc2a0fa96fd6",
       "version_major": 2,
       "version_minor": 0
      },
      "text/plain": [
       "Output()"
      ]
     },
     "metadata": {},
     "output_type": "display_data"
    }
   ],
   "source": [
    "condition_func = lambda sleap_decision, bonsai_decision, average_speed, restaurant, animal, session, trial: (\n",
    "    (bonsai_decision == 'quit' and sleap_decision == 'REJ')\n",
    "    )\n",
    "\n",
    "interactive_analysis(combined_df, condition_func)"
   ]
  },
  {
   "cell_type": "code",
   "execution_count": null,
   "metadata": {},
   "outputs": [
    {
     "data": {
      "application/vnd.jupyter.widget-view+json": {
       "model_id": "dc18c74c765a4ad98c9b7f346a171152",
       "version_major": 2,
       "version_minor": 0
      },
      "text/plain": [
       "interactive(children=(IntSlider(value=0, description='Start:', max=1643207, step=100), IntSlider(value=10000, …"
      ]
     },
     "metadata": {},
     "output_type": "display_data"
    },
    {
     "data": {
      "application/vnd.jupyter.widget-view+json": {
       "model_id": "f7796898b6614a41930a8f5d57a4cd1f",
       "version_major": 2,
       "version_minor": 0
      },
      "text/plain": [
       "Button(description='Plot', style=ButtonStyle())"
      ]
     },
     "metadata": {},
     "output_type": "display_data"
    },
    {
     "data": {
      "application/vnd.jupyter.widget-view+json": {
       "model_id": "919a5f3ce0a74c1b98ab7f9a2a277853",
       "version_major": 2,
       "version_minor": 0
      },
      "text/plain": [
       "Output()"
      ]
     },
     "metadata": {},
     "output_type": "display_data"
    }
   ],
   "source": [
    "condition_func = lambda sleap_decision, bonsai_decision, average_speed, restaurant, animal, session, trial: (\n",
    "    (bonsai_decision == 'ACC' and sleap_decision == 'REJ')\n",
    "    )\n",
    "\n",
    "interactive_analysis(combined_df, condition_func)"
   ]
  },
  {
   "cell_type": "code",
   "execution_count": null,
   "metadata": {},
   "outputs": [
    {
     "data": {
      "application/vnd.jupyter.widget-view+json": {
       "model_id": "b9edefe0e6de41e7b5d74b4baa6a159a",
       "version_major": 2,
       "version_minor": 0
      },
      "text/plain": [
       "interactive(children=(IntSlider(value=0, description='Start:', max=1643207, step=100), IntSlider(value=10000, …"
      ]
     },
     "metadata": {},
     "output_type": "display_data"
    },
    {
     "data": {
      "application/vnd.jupyter.widget-view+json": {
       "model_id": "a1be131fe3ed48afa48e1c131a9b5a19",
       "version_major": 2,
       "version_minor": 0
      },
      "text/plain": [
       "Button(description='Plot', style=ButtonStyle())"
      ]
     },
     "metadata": {},
     "output_type": "display_data"
    },
    {
     "data": {
      "application/vnd.jupyter.widget-view+json": {
       "model_id": "3042af0d591d42489f89728a366bdff8",
       "version_major": 2,
       "version_minor": 0
      },
      "text/plain": [
       "Output()"
      ]
     },
     "metadata": {},
     "output_type": "display_data"
    }
   ],
   "source": [
    "condition_func = lambda sleap_decision, bonsai_decision, average_speed, restaurant, animal, session, trial: (\n",
    "    (bonsai_decision == 'REJ' and sleap_decision == 'ACC')\n",
    "    )\n",
    "\n",
    "interactive_analysis(combined_df, condition_func)"
   ]
  },
  {
   "cell_type": "code",
   "execution_count": null,
   "metadata": {},
   "outputs": [],
   "source": []
  }
 ],
 "metadata": {
  "kernelspec": {
   "display_name": "base",
   "language": "python",
   "name": "python3"
  },
  "language_info": {
   "codemirror_mode": {
    "name": "ipython",
    "version": 3
   },
   "file_extension": ".py",
   "mimetype": "text/x-python",
   "name": "python",
   "nbconvert_exporter": "python",
   "pygments_lexer": "ipython3",
   "version": "3.11.7"
  }
 },
 "nbformat": 4,
 "nbformat_minor": 2
}
