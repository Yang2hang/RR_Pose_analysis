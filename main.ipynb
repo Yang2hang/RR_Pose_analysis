{
 "cells": [
  {
   "cell_type": "code",
   "execution_count": null,
   "metadata": {},
   "outputs": [],
   "source": [
    "import os\n",
    "import re\n",
    "import pandas as pd"
   ]
  },
  {
   "cell_type": "code",
   "execution_count": null,
   "metadata": {},
   "outputs": [],
   "source": [
    "def get_behavior_csv(animal, session, folder):\n",
    "    \"\"\"\n",
    "    Fetch the behavior analysis CSV file for the given animal and session.\n",
    "\n",
    "    Parameters:\n",
    "    - animal (str): The animal identifier (e.g., 'RRM030').\n",
    "    - session (str): The session identifier (e.g., 'Day134').\n",
    "    - folder (str): The root directory where the data is stored.\n",
    "\n",
    "    Returns:\n",
    "    - pd.DataFrame: The DataFrame containing the behavior analysis data.\n",
    "    - str: The path of the found CSV file.\n",
    "    \"\"\"\n",
    "    def construct_paths(folder, animal, session):\n",
    "        return [\n",
    "            os.path.join(folder, animal, session),\n",
    "            os.path.join(folder, f\"{animal}_{session}\"),\n",
    "            os.path.join(folder, animal),\n",
    "            folder\n",
    "        ]\n",
    "\n",
    "    # Construct potential file paths\n",
    "    paths = construct_paths(folder, animal, session)\n",
    "    pattern = re.compile(rf\"{animal}_{session}_R[1-4]_turns\\.csv\")\n",
    "    # Search for the CSV file\n",
    "    csv_filename = f\"RR_{animal}_{session}.csv\"\n",
    "    for path in paths:\n",
    "        potential_file_path = os.path.join(path, csv_filename)\n",
    "        if os.path.exists(potential_file_path):\n",
    "            print(f\"Found file: {potential_file_path}\")\n",
    "            return pd.read_csv(potential_file_path), potential_file_path\n",
    "        \n",
    "    # Search for the CSV files matching the pattern\n",
    "    for path in paths:\n",
    "        if os.path.exists(path):\n",
    "            for filename in os.listdir(path):\n",
    "                if pattern.match(filename):\n",
    "                    potential_file_path = os.path.join(path, filename)\n",
    "                    print(f\"Found file: {potential_file_path}\")\n",
    "                    return pd.read_csv(potential_file_path), potential_file_path\n",
    "        \n",
    "    # If the file is not found, raise an error or return None\n",
    "    print(f\"File {csv_filename} not found in any of the paths.\")\n",
    "    return None, None\n",
    "\n"
   ]
  },
  {
   "cell_type": "code",
   "execution_count": null,
   "metadata": {},
   "outputs": [],
   "source": [
    "animal = 'RRM030'\n",
    "session = 'Day134'\n",
    "folder = r'D:\\U19\\Restaurant Row\\sleap_videos'  # Adjust the folder path as needed\n",
    "\n",
    "behavior_df, file_path = get_behavior_csv(animal, session, folder)\n",
    "\n",
    "if behavior_df is not None:\n",
    "    print(f\"DataFrame loaded from {file_path}\")\n",
    "    print(behavior_df.head())\n",
    "else:\n",
    "    print(\"CSV file not found.\")"
   ]
  }
 ],
 "metadata": {
  "language_info": {
   "name": "python"
  }
 },
 "nbformat": 4,
 "nbformat_minor": 2
}
