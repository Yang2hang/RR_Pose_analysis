{
 "cells": [
  {
   "cell_type": "code",
   "execution_count": 1,
   "metadata": {},
   "outputs": [
    {
     "ename": "ModuleNotFoundError",
     "evalue": "No module named 'neurobehavior_base'",
     "output_type": "error",
     "traceback": [
      "\u001b[0;31m---------------------------------------------------------------------------\u001b[0m",
      "\u001b[0;31mModuleNotFoundError\u001b[0m                       Traceback (most recent call last)",
      "Cell \u001b[0;32mIn[1], line 4\u001b[0m\n\u001b[1;32m      2\u001b[0m \u001b[38;5;28;01mimport\u001b[39;00m \u001b[38;5;21;01mnumpy\u001b[39;00m \u001b[38;5;28;01mas\u001b[39;00m \u001b[38;5;21;01mnp\u001b[39;00m\n\u001b[1;32m      3\u001b[0m \u001b[38;5;28;01mimport\u001b[39;00m \u001b[38;5;21;01mpandas\u001b[39;00m \u001b[38;5;28;01mas\u001b[39;00m \u001b[38;5;21;01mpd\u001b[39;00m\n\u001b[0;32m----> 4\u001b[0m \u001b[38;5;28;01mfrom\u001b[39;00m \u001b[38;5;21;01mneurobehavior_base\u001b[39;00m \u001b[38;5;28;01mimport\u001b[39;00m RR_Expr\n\u001b[1;32m      5\u001b[0m \u001b[38;5;28;01mfrom\u001b[39;00m \u001b[38;5;21;01mbehaviors\u001b[39;00m \u001b[38;5;28;01mimport\u001b[39;00m RRBehaviorMat\n\u001b[1;32m      6\u001b[0m \u001b[38;5;28;01mimport\u001b[39;00m \u001b[38;5;21;01mseaborn\u001b[39;00m \u001b[38;5;28;01mas\u001b[39;00m \u001b[38;5;21;01msns\u001b[39;00m\n",
      "\u001b[0;31mModuleNotFoundError\u001b[0m: No module named 'neurobehavior_base'"
     ]
    }
   ],
   "source": [
    "from os.path import join as oj\n",
    "import numpy as np\n",
    "import pandas as pd\n",
    "from neurobehavior_base import RR_Expr\n",
    "from behaviors import RRBehaviorMat\n",
    "import seaborn as sns\n",
    "import warnings\n",
    "import plotly.express as px\n",
    "\n",
    "warnings.filterwarnings(\"ignore\", \"is_categorical_dtype\")\n",
    "warnings.filterwarnings(\"ignore\", \"use_inf_as_na\")\n",
    "\n",
    "sns.set_theme(font=\"Arial\", context='talk', style='white', color_codes=False)\n",
    "\n",
    "# loading data\n",
    "animal = 'RRM030'\n",
    "session = 'Day134'\n",
    "# cache_folder = r'D:\\U19\\data\\RR\\caching'\n",
    "# debug_path = oj(cache_folder, 'debugging')\n",
    "data_root = r'D:\\U19\\data\\RR\\ARJ_raw' #Z:\\Restaurant Row\\Data\\ARJ_raw\n",
    "rse = RR_Expr(data_root, cache=False)\n",
    "filemap = rse.encode_to_filename(animal, session, [\"RR_\"])\n",
    "bdf = RRBehaviorMat(\n",
    "    animal, session, filemap, STAGE=1, cache_folder=None\n",
    ").todf()\n",
    "# bmat, neuro_series = rse.load_animal_session(animal, session)\n",
    "# bdf = bmat.todf()"
   ]
  },
  {
   "cell_type": "code",
   "execution_count": 12,
   "metadata": {},
   "outputs": [
    {
     "data": {
      "text/plain": [
       "Index(['animal', 'session', 'trial', 'tone_onset', 'stimulation_on',\n",
       "       'stimulation_off', 'offer_prob', 'restaurant', 'T_Entry', 'choice',\n",
       "       'accept', 'outcome', 'reward', 'quit', 'collection', 'trial_end',\n",
       "       'exit', 'lapIndex', 'blockIndex', 'quit_time', 'tmax'],\n",
       "      dtype='object')"
      ]
     },
     "execution_count": 12,
     "metadata": {},
     "output_type": "execute_result"
    }
   ],
   "source": [
    "bdf.columns"
   ]
  },
  {
   "cell_type": "code",
   "execution_count": null,
   "metadata": {},
   "outputs": [],
   "source": []
  }
 ],
 "metadata": {
  "kernelspec": {
   "display_name": "base",
   "language": "python",
   "name": "python3"
  },
  "language_info": {
   "codemirror_mode": {
    "name": "ipython",
    "version": 3
   },
   "file_extension": ".py",
   "mimetype": "text/x-python",
   "name": "python",
   "nbconvert_exporter": "python",
   "pygments_lexer": "ipython3",
   "version": "3.11.7"
  }
 },
 "nbformat": 4,
 "nbformat_minor": 2
}
