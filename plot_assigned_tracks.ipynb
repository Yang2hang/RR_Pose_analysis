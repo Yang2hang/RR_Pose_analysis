{
 "cells": [
  {
   "cell_type": "code",
   "execution_count": 83,
   "metadata": {},
   "outputs": [],
   "source": [
    "import pandas as pd\n",
    "import numpy as np\n",
    "import os\n",
    "import matplotlib.pyplot as plt\n",
    "import seaborn as sns\n",
    "from os.path import join as oj\n",
    "import pandas as pd\n",
    "import ipywidgets as widgets\n",
    "from IPython.display import display, clear_output"
   ]
  },
  {
   "cell_type": "code",
   "execution_count": 84,
   "metadata": {},
   "outputs": [],
   "source": [
    "root_folder = r'/Users/yang/Documents/Wilbrecht_Lab/sleap_video/cleaned_preprocessed_data'\n",
    "combined_df = pd.read_csv(oj(root_folder, 'combined_df.csv'))"
   ]
  },
  {
   "cell_type": "code",
   "execution_count": 85,
   "metadata": {},
   "outputs": [
    {
     "name": "stdout",
     "output_type": "stream",
     "text": [
      "(837305, 39)\n"
     ]
    },
    {
     "data": {
      "text/html": [
       "<div>\n",
       "<style scoped>\n",
       "    .dataframe tbody tr th:only-of-type {\n",
       "        vertical-align: middle;\n",
       "    }\n",
       "\n",
       "    .dataframe tbody tr th {\n",
       "        vertical-align: top;\n",
       "    }\n",
       "\n",
       "    .dataframe thead th {\n",
       "        text-align: right;\n",
       "    }\n",
       "</style>\n",
       "<table border=\"1\" class=\"dataframe\">\n",
       "  <thead>\n",
       "    <tr style=\"text-align: right;\">\n",
       "      <th></th>\n",
       "      <th>index</th>\n",
       "      <th>Head x</th>\n",
       "      <th>Head y</th>\n",
       "      <th>Neck x</th>\n",
       "      <th>Neck y</th>\n",
       "      <th>Torso x</th>\n",
       "      <th>Torso y</th>\n",
       "      <th>Tailhead x</th>\n",
       "      <th>Tailhead y</th>\n",
       "      <th>warped Head x</th>\n",
       "      <th>...</th>\n",
       "      <th>Head velocity</th>\n",
       "      <th>Neck velocity</th>\n",
       "      <th>Torso velocity</th>\n",
       "      <th>Tailhead velocity</th>\n",
       "      <th>Head acceleration</th>\n",
       "      <th>Neck acceleration</th>\n",
       "      <th>Torso acceleration</th>\n",
       "      <th>Tailhead acceleration</th>\n",
       "      <th>animal</th>\n",
       "      <th>session</th>\n",
       "    </tr>\n",
       "  </thead>\n",
       "  <tbody>\n",
       "    <tr>\n",
       "      <th>0</th>\n",
       "      <td>0</td>\n",
       "      <td>97.949959</td>\n",
       "      <td>125.948250</td>\n",
       "      <td>90.718018</td>\n",
       "      <td>125.915596</td>\n",
       "      <td>78.312035</td>\n",
       "      <td>126.051994</td>\n",
       "      <td>68.342316</td>\n",
       "      <td>123.691650</td>\n",
       "      <td>297.271604</td>\n",
       "      <td>...</td>\n",
       "      <td>0.000000</td>\n",
       "      <td>0.000000</td>\n",
       "      <td>0.000000</td>\n",
       "      <td>0.000000</td>\n",
       "      <td>5366.158657</td>\n",
       "      <td>6103.448865</td>\n",
       "      <td>6087.064396</td>\n",
       "      <td>4976.537731</td>\n",
       "      <td>RRM028</td>\n",
       "      <td>Day136</td>\n",
       "    </tr>\n",
       "    <tr>\n",
       "      <th>1</th>\n",
       "      <td>1</td>\n",
       "      <td>103.294258</td>\n",
       "      <td>126.465607</td>\n",
       "      <td>98.100525</td>\n",
       "      <td>126.174385</td>\n",
       "      <td>85.752670</td>\n",
       "      <td>125.916733</td>\n",
       "      <td>74.097397</td>\n",
       "      <td>125.736877</td>\n",
       "      <td>297.810956</td>\n",
       "      <td>...</td>\n",
       "      <td>178.871955</td>\n",
       "      <td>203.448296</td>\n",
       "      <td>202.902147</td>\n",
       "      <td>165.884591</td>\n",
       "      <td>444.021472</td>\n",
       "      <td>-256.515885</td>\n",
       "      <td>-354.946138</td>\n",
       "      <td>101.096186</td>\n",
       "      <td>RRM028</td>\n",
       "      <td>Day136</td>\n",
       "    </tr>\n",
       "    <tr>\n",
       "      <th>2</th>\n",
       "      <td>2</td>\n",
       "      <td>111.046303</td>\n",
       "      <td>126.946213</td>\n",
       "      <td>105.955849</td>\n",
       "      <td>126.559837</td>\n",
       "      <td>93.239532</td>\n",
       "      <td>126.049316</td>\n",
       "      <td>80.696983</td>\n",
       "      <td>125.685104</td>\n",
       "      <td>298.240149</td>\n",
       "      <td>...</td>\n",
       "      <td>193.672671</td>\n",
       "      <td>194.897766</td>\n",
       "      <td>191.070609</td>\n",
       "      <td>169.254464</td>\n",
       "      <td>254.476626</td>\n",
       "      <td>-326.058207</td>\n",
       "      <td>-326.396008</td>\n",
       "      <td>351.326716</td>\n",
       "      <td>RRM028</td>\n",
       "      <td>Day136</td>\n",
       "    </tr>\n",
       "    <tr>\n",
       "      <th>3</th>\n",
       "      <td>3</td>\n",
       "      <td>118.300751</td>\n",
       "      <td>127.073494</td>\n",
       "      <td>111.140808</td>\n",
       "      <td>126.629097</td>\n",
       "      <td>98.491478</td>\n",
       "      <td>126.034889</td>\n",
       "      <td>86.217712</td>\n",
       "      <td>123.775703</td>\n",
       "      <td>298.339819</td>\n",
       "      <td>...</td>\n",
       "      <td>202.155225</td>\n",
       "      <td>184.029159</td>\n",
       "      <td>180.190742</td>\n",
       "      <td>180.965354</td>\n",
       "      <td>-47.854098</td>\n",
       "      <td>502.099255</td>\n",
       "      <td>716.147302</td>\n",
       "      <td>995.369931</td>\n",
       "      <td>RRM028</td>\n",
       "      <td>Day136</td>\n",
       "    </tr>\n",
       "    <tr>\n",
       "      <th>4</th>\n",
       "      <td>4</td>\n",
       "      <td>126.184807</td>\n",
       "      <td>126.752533</td>\n",
       "      <td>119.117012</td>\n",
       "      <td>126.511871</td>\n",
       "      <td>106.560745</td>\n",
       "      <td>126.113716</td>\n",
       "      <td>94.671455</td>\n",
       "      <td>125.946205</td>\n",
       "      <td>298.074981</td>\n",
       "      <td>...</td>\n",
       "      <td>200.560089</td>\n",
       "      <td>200.765801</td>\n",
       "      <td>204.062318</td>\n",
       "      <td>214.144352</td>\n",
       "      <td>-242.376663</td>\n",
       "      <td>267.522220</td>\n",
       "      <td>322.237925</td>\n",
       "      <td>183.658880</td>\n",
       "      <td>RRM028</td>\n",
       "      <td>Day136</td>\n",
       "    </tr>\n",
       "  </tbody>\n",
       "</table>\n",
       "<p>5 rows × 39 columns</p>\n",
       "</div>"
      ],
      "text/plain": [
       "   index      Head x      Head y      Neck x      Neck y     Torso x  \\\n",
       "0      0   97.949959  125.948250   90.718018  125.915596   78.312035   \n",
       "1      1  103.294258  126.465607   98.100525  126.174385   85.752670   \n",
       "2      2  111.046303  126.946213  105.955849  126.559837   93.239532   \n",
       "3      3  118.300751  127.073494  111.140808  126.629097   98.491478   \n",
       "4      4  126.184807  126.752533  119.117012  126.511871  106.560745   \n",
       "\n",
       "      Torso y  Tailhead x  Tailhead y  warped Head x  ...  Head velocity  \\\n",
       "0  126.051994   68.342316  123.691650     297.271604  ...       0.000000   \n",
       "1  125.916733   74.097397  125.736877     297.810956  ...     178.871955   \n",
       "2  126.049316   80.696983  125.685104     298.240149  ...     193.672671   \n",
       "3  126.034889   86.217712  123.775703     298.339819  ...     202.155225   \n",
       "4  126.113716   94.671455  125.946205     298.074981  ...     200.560089   \n",
       "\n",
       "   Neck velocity  Torso velocity  Tailhead velocity  Head acceleration  \\\n",
       "0       0.000000        0.000000           0.000000        5366.158657   \n",
       "1     203.448296      202.902147         165.884591         444.021472   \n",
       "2     194.897766      191.070609         169.254464         254.476626   \n",
       "3     184.029159      180.190742         180.965354         -47.854098   \n",
       "4     200.765801      204.062318         214.144352        -242.376663   \n",
       "\n",
       "   Neck acceleration  Torso acceleration  Tailhead acceleration  animal  \\\n",
       "0        6103.448865         6087.064396            4976.537731  RRM028   \n",
       "1        -256.515885         -354.946138             101.096186  RRM028   \n",
       "2        -326.058207         -326.396008             351.326716  RRM028   \n",
       "3         502.099255          716.147302             995.369931  RRM028   \n",
       "4         267.522220          322.237925             183.658880  RRM028   \n",
       "\n",
       "  session  \n",
       "0  Day136  \n",
       "1  Day136  \n",
       "2  Day136  \n",
       "3  Day136  \n",
       "4  Day136  \n",
       "\n",
       "[5 rows x 39 columns]"
      ]
     },
     "execution_count": 85,
     "metadata": {},
     "output_type": "execute_result"
    }
   ],
   "source": [
    "print(combined_df.shape)\n",
    "combined_df.head()"
   ]
  },
  {
   "cell_type": "code",
   "execution_count": 109,
   "metadata": {},
   "outputs": [],
   "source": [
    "def plot_assigned_tracks(df, condition_func):\n",
    "    '''\n",
    "    Plot the trials that satisfy the given condition\n",
    "    '''\n",
    "    current_trial_num = np.nan\n",
    "    current_bonsai_decision = np.nan\n",
    "    current_decision = np.nan\n",
    "    bonsai_decision = np.nan\n",
    "    decision = np.nan\n",
    "    \n",
    "    #bonsai_decision_list = []\n",
    "    #decision_list = []\n",
    "    animal_list = []\n",
    "    session_list = []\n",
    "    trial_list = []\n",
    "\n",
    "    for index, row in df.iterrows():\n",
    "        bonsai_decision = row['label']\n",
    "        decision = row['decision']\n",
    "        trial_num = row['trial']\n",
    "        animal = row['animal']\n",
    "        session = row['session']\n",
    "        \n",
    "        if trial_num != current_trial_num: # End of current trial and start of a new trial \n",
    "            if current_bonsai_decision == 'collection':\n",
    "                current_bonsai_decision = 'ACC'\n",
    "            if  condition_func(current_decision, current_bonsai_decision): # ---MODIFY THE CONDITION HERE---\n",
    "                #bonsai_decision_list.append(current_bonsai_decision)\n",
    "                #decision_list.append(current_decision)\n",
    "                animal_list.append(animal)\n",
    "                session_list.append(session)\n",
    "                trial_list.append(current_trial_num)\n",
    "\n",
    "            current_bonsai_decision = np.nan    \n",
    "            current_decision = np.nan\n",
    "            current_trial_num = trial_num \n",
    "              \n",
    "        if not pd.isna(decision):\n",
    "            current_decision = decision    \n",
    "        if not pd.isna(bonsai_decision):\n",
    "            current_bonsai_decision = bonsai_decision\n",
    "    \n",
    "    result_df = pd.DataFrame({\n",
    "        #'bonsai decision': bonsai_decision_list,\n",
    "        #'decision': decision_list,\n",
    "        'animal': animal_list,\n",
    "        'session': session_list,\n",
    "        'trial': trial_list\n",
    "    })\n",
    "    \n",
    "    # Extract animal, session, and trial info from the decision dataframe\n",
    "    decision_info = result_df[['animal', 'session', 'trial']]\n",
    "    filtered_df = df[\n",
    "        df[['animal', 'session', 'trial']].apply(tuple, axis=1).isin(decision_info.apply(tuple, axis=1))\n",
    "    ]\n",
    "\n",
    "    # plot each trial separately\n",
    "    plt.figure(figsize=(10, 10))\n",
    "\n",
    "    palette = sns.color_palette('deep', n_colors=len(filtered_df['trial'].unique()))\n",
    "\n",
    "    for color, (trial_num, group) in zip(palette, filtered_df.groupby('trial')):\n",
    "        sns.lineplot(\n",
    "            data=group,\n",
    "            x='warped Head x',\n",
    "            y='warped Head y',\n",
    "            color=color,\n",
    "            linewidth=0.5,\n",
    "            legend=False,\n",
    "            sort=False\n",
    "        )\n",
    "\n",
    "    plt.axvline(x=282, color='red', linestyle='--', linewidth=1)\n",
    "    plt.text(282, plt.ylim()[1], 'REJ', color='red', ha='right', va='top')\n",
    "\n",
    "    plt.axvline(x=309, color='red', linestyle='--', linewidth=1)\n",
    "    plt.text(309, plt.ylim()[1], 'ACC', color='red', ha='right', va='top')\n",
    "    \n",
    "    plt.axhline(y=46, color='red', linestyle='--', linewidth=1)\n",
    "    plt.text(plt.xlim()[1], 46, 'T_Entry', color='red', ha='right', va='bottom')\n",
    "\n",
    "\n",
    "    plt.ylim(0, 140)\n",
    "    plt.xlabel('Head x coordinate')\n",
    "    plt.ylabel('Head y coordinate')\n",
    "    plt.title(f'Track of Head of length: {len(df)}')\n",
    "    plt.legend(title='Trial Number', loc='upper right')\n",
    "    plt.grid(True)\n",
    "\n",
    "    # Invert y-axis to match the video coordinate system\n",
    "    plt.gca().invert_yaxis()\n",
    "\n",
    "    plt.show()\n",
    "    \n",
    "\n",
    "def interactive_analysis(combined_df, condition_func):\n",
    "    \"\"\"\n",
    "    Use the slider to adjust the start and length of the range of combined_df.\n",
    "    Then plot the trials that satisfy the given condition\n",
    "    \n",
    "    Parameters:\n",
    "    - combined_df: The DataFrame to analyze.\n",
    "    - condition_func: A lambda function to determine the condition for plotting.\n",
    "    \"\"\"\n",
    "    \n",
    "    selected_range = [0, 10000]\n",
    "\n",
    "    # Function to update the selected range based on slider values\n",
    "    def update_range(range_value, interval):\n",
    "        global selected_range\n",
    "        global df_subset\n",
    "        selected_range = [range_value, range_value + interval]\n",
    "        df_subset = combined_df.iloc[selected_range[0]:selected_range[1]]\n",
    "        print(f\"Selected range: {selected_range}\")\n",
    "\n",
    "    # Create slider widgets\n",
    "    range_slider = widgets.IntSlider(value=0, min=0, max=len(combined_df), step=100, description='Start:')\n",
    "    interval_slider = widgets.IntSlider(value=10000, min=0, max=len(combined_df), step=100, description='Length:')\n",
    "    interactive_widget = widgets.interactive(update_range, range_value=range_slider, interval=interval_slider)\n",
    "    display(interactive_widget)\n",
    "\n",
    "    # Create an output widget for the plots\n",
    "    output = widgets.Output()\n",
    "\n",
    "    # Button to trigger further analysis\n",
    "    analyze_button = widgets.Button(description=\"Plot\")\n",
    "\n",
    "    # Function to handle button click\n",
    "    def on_analyze_button_clicked(b):\n",
    "        with output:\n",
    "            clear_output(wait=True)  # Clear previous plots\n",
    "            plot_assigned_tracks(df_subset, condition_func)\n",
    "    \n",
    "\n",
    "    # Link the button to the handler function\n",
    "    analyze_button.on_click(on_analyze_button_clicked)\n",
    "\n",
    "    # Display the button and output widget\n",
    "    display(analyze_button)\n",
    "    display(output)\n",
    "    "
   ]
  },
  {
   "cell_type": "code",
   "execution_count": 110,
   "metadata": {},
   "outputs": [
    {
     "data": {
      "application/vnd.jupyter.widget-view+json": {
       "model_id": "1b3f12240c6b41ee82a1a033ef4da857",
       "version_major": 2,
       "version_minor": 0
      },
      "text/plain": [
       "interactive(children=(IntSlider(value=0, description='Start:', max=837305, step=100), IntSlider(value=10000, d…"
      ]
     },
     "metadata": {},
     "output_type": "display_data"
    },
    {
     "data": {
      "application/vnd.jupyter.widget-view+json": {
       "model_id": "af0f738eb55d498186fb14004f59d656",
       "version_major": 2,
       "version_minor": 0
      },
      "text/plain": [
       "Button(description='Plot', style=ButtonStyle())"
      ]
     },
     "metadata": {},
     "output_type": "display_data"
    },
    {
     "data": {
      "application/vnd.jupyter.widget-view+json": {
       "model_id": "68c269639ab5488da9b7535ecc79c2a0",
       "version_major": 2,
       "version_minor": 0
      },
      "text/plain": [
       "Output()"
      ]
     },
     "metadata": {},
     "output_type": "display_data"
    }
   ],
   "source": [
    "condition_func = lambda current_decision, current_bonsai_decision: (\n",
    "    (current_bonsai_decision == 'quit' and current_decision == 'REJ')\n",
    "    #current_decision != current_bonsai_decision \n",
    "    #True \n",
    "    #current_decision == 'REJ'\n",
    "    )\n",
    "\n",
    "interactive_analysis(combined_df, condition_func)"
   ]
  },
  {
   "cell_type": "code",
   "execution_count": 111,
   "metadata": {},
   "outputs": [
    {
     "data": {
      "application/vnd.jupyter.widget-view+json": {
       "model_id": "d87e5785ff0e4787bb7cba12f92d3cab",
       "version_major": 2,
       "version_minor": 0
      },
      "text/plain": [
       "interactive(children=(IntSlider(value=0, description='Start:', max=837305, step=100), IntSlider(value=10000, d…"
      ]
     },
     "metadata": {},
     "output_type": "display_data"
    },
    {
     "data": {
      "application/vnd.jupyter.widget-view+json": {
       "model_id": "682174c798604cf6a9f40e3bb02bd7f3",
       "version_major": 2,
       "version_minor": 0
      },
      "text/plain": [
       "Button(description='Plot', style=ButtonStyle())"
      ]
     },
     "metadata": {},
     "output_type": "display_data"
    },
    {
     "data": {
      "application/vnd.jupyter.widget-view+json": {
       "model_id": "221f1773d5534831aaecf08133f0ceb1",
       "version_major": 2,
       "version_minor": 0
      },
      "text/plain": [
       "Output()"
      ]
     },
     "metadata": {},
     "output_type": "display_data"
    }
   ],
   "source": [
    "condition_func = lambda current_decision, current_bonsai_decision: (\n",
    "    (current_bonsai_decision == 'ACC' and current_decision == 'REJ')\n",
    "    #(current_bonsai_decision == 'REJ' and current_decision == 'ACC')\n",
    "    #current_decision != current_bonsai_decision\n",
    "    #True\n",
    "    #current_decision == 'REJ'\n",
    "    )\n",
    "\n",
    "interactive_analysis(combined_df, condition_func)"
   ]
  },
  {
   "cell_type": "code",
   "execution_count": 113,
   "metadata": {},
   "outputs": [
    {
     "data": {
      "application/vnd.jupyter.widget-view+json": {
       "model_id": "b31b1f51c00b4aae884cb68aed0da6a3",
       "version_major": 2,
       "version_minor": 0
      },
      "text/plain": [
       "interactive(children=(IntSlider(value=0, description='Start:', max=837305, step=100), IntSlider(value=10000, d…"
      ]
     },
     "metadata": {},
     "output_type": "display_data"
    },
    {
     "data": {
      "application/vnd.jupyter.widget-view+json": {
       "model_id": "1aca7cd2fd47424783475ba093419a0d",
       "version_major": 2,
       "version_minor": 0
      },
      "text/plain": [
       "Button(description='Plot', style=ButtonStyle())"
      ]
     },
     "metadata": {},
     "output_type": "display_data"
    },
    {
     "data": {
      "application/vnd.jupyter.widget-view+json": {
       "model_id": "7ca1ac620e02451f98e4de6c9e52097e",
       "version_major": 2,
       "version_minor": 0
      },
      "text/plain": [
       "Output()"
      ]
     },
     "metadata": {},
     "output_type": "display_data"
    }
   ],
   "source": [
    "condition_func = lambda current_decision, current_bonsai_decision: (\n",
    "    (current_bonsai_decision == 'REJ' and current_decision == 'ACC')\n",
    "    #(current_bonsai_decision == 'REJ' and current_decision == 'ACC')\n",
    "    #current_decision != current_bonsai_decision \n",
    "    #True \n",
    "    #current_decision == 'REJ'\n",
    "    )\n",
    "\n",
    "interactive_analysis(combined_df, condition_func)"
   ]
  }
 ],
 "metadata": {
  "kernelspec": {
   "display_name": "base",
   "language": "python",
   "name": "python3"
  },
  "language_info": {
   "codemirror_mode": {
    "name": "ipython",
    "version": 3
   },
   "file_extension": ".py",
   "mimetype": "text/x-python",
   "name": "python",
   "nbconvert_exporter": "python",
   "pygments_lexer": "ipython3",
   "version": "3.11.7"
  }
 },
 "nbformat": 4,
 "nbformat_minor": 2
}
