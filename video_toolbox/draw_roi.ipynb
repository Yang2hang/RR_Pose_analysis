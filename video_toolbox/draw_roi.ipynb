{
 "cells": [
  {
   "cell_type": "code",
   "execution_count": 17,
   "metadata": {},
   "outputs": [],
   "source": [
    "import cv2 as CV\n",
    "import os"
   ]
  },
  {
   "cell_type": "code",
   "execution_count": 2,
   "metadata": {},
   "outputs": [],
   "source": [
    "# Define colors and thickness\n",
    "entrycolor = (0, 255, 0)  # g\n",
    "rejectcolor = (0, 0, 255)  # r\n",
    "Acceptcolor = (255, 0, 0)  # b\n",
    "thickness = 2  # Example thickness\n",
    "image_height = 240"
   ]
  },
  {
   "cell_type": "code",
   "execution_count": 31,
   "metadata": {},
   "outputs": [],
   "source": [
    "def draw_trajectory(trajectory, photo_path):\n",
    "    if 'R1' in photo_path:\n",
    "        t_entry_threshold = 110\n",
    "        rej_threshold = 547\n",
    "        acc_threshold = 645\n",
    "    elif 'R2' in photo_path:\n",
    "        t_entry_threshold = 114\n",
    "        rej_threshold = 570\n",
    "        acc_threshold = 660\n",
    "    elif 'R3' in photo_path:\n",
    "        t_entry_threshold = 111\n",
    "        rej_threshold = 577\n",
    "        acc_threshold = 650\n",
    "    elif 'R4' in photo_path:\n",
    "        t_entry_threshold = 105\n",
    "        rej_threshold = 565\n",
    "        acc_threshold = 657\n",
    "\n",
    "    # Draw entry\n",
    "    CV.line(trajectory, (rej_threshold, t_entry_threshold), (acc_threshold, t_entry_threshold), entrycolor, thickness)\n",
    "    # Draw reject zone 4\n",
    "    CV.line(trajectory, (rej_threshold, t_entry_threshold), (rej_threshold, t_entry_threshold - 100), rejectcolor, thickness)\n",
    "    # Draw reward zone 4\n",
    "    CV.line(trajectory, (acc_threshold, t_entry_threshold), (acc_threshold, t_entry_threshold - 100), Acceptcolor, thickness)"
   ]
  },
  {
   "cell_type": "code",
   "execution_count": 32,
   "metadata": {},
   "outputs": [
    {
     "data": {
      "text/plain": [
       "True"
      ]
     },
     "execution_count": 32,
     "metadata": {},
     "output_type": "execute_result"
    }
   ],
   "source": [
    "photo_path = '/Users/yang/Documents/Wilbrecht_Lab/data/sleap_video/R4.png'\n",
    "path, filename = os.path.split(photo_path)\n",
    "name, ext = os.path.splitext(filename)\n",
    "output_filename = f'{name}_w_threshold{ext}'\n",
    "output_path = os.path.join(path, output_filename)\n",
    "\n",
    "trajectory = CV.imread(photo_path)\n",
    "draw_trajectory(trajectory, photo_path)\n",
    "\n",
    "CV.imwrite(output_path, trajectory)"
   ]
  }
 ],
 "metadata": {
  "kernelspec": {
   "display_name": "base",
   "language": "python",
   "name": "python3"
  },
  "language_info": {
   "codemirror_mode": {
    "name": "ipython",
    "version": 3
   },
   "file_extension": ".py",
   "mimetype": "text/x-python",
   "name": "python",
   "nbconvert_exporter": "python",
   "pygments_lexer": "ipython3",
   "version": "3.11.7"
  }
 },
 "nbformat": 4,
 "nbformat_minor": 2
}
